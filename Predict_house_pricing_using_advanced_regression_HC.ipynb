{
 "cells": [
  {
   "cell_type": "code",
   "execution_count": null,
   "id": "ec1b4bd1",
   "metadata": {},
   "outputs": [],
   "source": [
    "'''\n",
    "Predict the price of a house based on the dataset from Kaggle\n",
    "\n",
    "Data Preparation\n",
    "Missing values\n",
    "Categorical variables\n",
    "Numeric variables\n",
    "Ranking variables\n",
    "Feature engineering\n",
    "Correlation\n",
    "Selecting the best variable\n",
    "\n",
    "Modeling\n",
    "Combine data (train and test)\n",
    "Clean and fill in missing values\n",
    "Separate train and test dataset\n",
    "Split the training dataset into train and test\n",
    "Train model and test\n",
    "Use Gradient Boosting and Random forest regressors\n",
    "Mean absolute error or mean square error\n",
    "Predict on actual Kaggle test dataset\n",
    "'''"
   ]
  },
  {
   "cell_type": "code",
   "execution_count": null,
   "id": "c162ac90",
   "metadata": {},
   "outputs": [],
   "source": [
    "'''\n",
    "Here's a brief version of what you'll find in the data description file.\n",
    "1. SalePrice - the property's sale price in dollars. This is the target variable that you're trying to predict.\n",
    "2. MSSubClass: The building class\n",
    "3. MSZoning: The general zoning classification\n",
    "4. LotFrontage: Linear feet of street connected to property\n",
    "5. LotArea: Lot size in square feet\n",
    "6. Street: Type of road access\n",
    "7. Alley: Type of alley access\n",
    "8. LotShape: General shape of property\n",
    "9. LandContour: Flatness of the property\n",
    "10. Utilities: Type of utilities available\n",
    "11. LotConfig: Lot configuration\n",
    "12. LandSlope: Slope of property\n",
    "13. Neighborhood: Physical locations within Ames city limits\n",
    "14. Condition1: Proximity to main road or railroad\n",
    "15. Condition2: Proximity to main road or railroad (if a second is present)\n",
    "16. BldgType: Type of dwelling\n",
    "17. HouseStyle: Style of dwelling\n",
    "18. OverallQual: Overall material and finish quality\n",
    "19. OverallCond: Overall condition rating\n",
    "20. YearBuilt: Original construction date\n",
    "21. YearRemodAdd: Remodel date\n",
    "22. RoofStyle: Type of roof\n",
    "23. RoofMatl: Roof material\n",
    "24. Exterior1st: Exterior covering on house\n",
    "25. Exterior2nd: Exterior covering on house (if more than one material)\n",
    "26. MasVnrType: Masonry veneer type\n",
    "27. MasVnrArea: Masonry veneer area in square feet\n",
    "28. ExterQual: Exterior material quality\n",
    "29. ExterCond: Present condition of the material on the exterior\n",
    "30. Foundation: Type of foundation\n",
    "31. BsmtQual: Height of the basement\n",
    "32. BsmtCond: General condition of the basement\n",
    "33. BsmtExposure: Walkout or garden level basement walls\n",
    "34. BsmtFinType1: Quality of basement finished area\n",
    "35. BsmtFinSF1: Type 1 finished square feet\n",
    "36. BsmtFinType2: Quality of second finished area (if present)\n",
    "37. BsmtFinSF2: Type 2 finished square feet\n",
    "38. BsmtUnfSF: Unfinished square feet of basement area\n",
    "39. TotalBsmtSF: Total square feet of basement area\n",
    "40. Heating: Type of heating\n",
    "41. HeatingQC: Heating quality and condition\n",
    "42. CentralAir: Central air conditioning\n",
    "43. Electrical: Electrical system\n",
    "44. 1stFlrSF: First Floor square feet\n",
    "45. 2ndFlrSF: Second floor square feet\n",
    "46. LowQualFinSF: Low quality finished square feet (all floors)\n",
    "47. GrLivArea: Above grade (ground) living area square feet\n",
    "48. BsmtFullBath: Basement full bathrooms\n",
    "49. BsmtHalfBath: Basement half bathrooms\n",
    "50. FullBath: Full bathrooms above grade\n",
    "51. HalfBath: Half baths above grade\n",
    "52. Bedroom: Number of bedrooms above basement level\n",
    "53. Kitchen: Number of kitchens\n",
    "54. KitchenQual: Kitchen quality\n",
    "55. TotRmsAbvGrd: Total rooms above grade (does not include bathrooms)\n",
    "56. Functional: Home functionality rating\n",
    "57. Fireplaces: Number of fireplaces\n",
    "58. FireplaceQu: Fireplace quality\n",
    "59. GarageType: Garage location\n",
    "60. GarageYrBlt: Year garage was built\n",
    "61. GarageFinish: Interior finish of the garage\n",
    "62. GarageCars: Size of garage in car capacity\n",
    "63. GarageArea: Size of garage in square feet\n",
    "64. GarageQual: Garage quality\n",
    "65. GarageCond: Garage condition\n",
    "66. PavedDrive: Paved driveway\n",
    "67. WoodDeckSF: Wood deck area in square feet\n",
    "68. OpenPorchSF: Open porch area in square feet\n",
    "69. EnclosedPorch: Enclosed porch area in square feet\n",
    "70. 3SsnPorch: Three season porch area in square feet\n",
    "71. ScreenPorch: Screen porch area in square feet\n",
    "72. PoolArea: Pool area in square feet\n",
    "73. PoolQC: Pool quality\n",
    "74. Fence: Fence quality\n",
    "75. MiscFeature: Miscellaneous feature not covered in other categories\n",
    "76. MiscVal: $Value of miscellaneous feature\n",
    "77. MoSold: Month Sold\n",
    "78. YrSold: Year Sold\n",
    "79. SaleType: Type of sale\n",
    "80. SaleCondition: Condition of sale\n",
    "'''"
   ]
  },
  {
   "cell_type": "code",
   "execution_count": 1,
   "id": "5bcefe75",
   "metadata": {},
   "outputs": [],
   "source": [
    "import pandas as pd\n",
    "import numpy as np"
   ]
  },
  {
   "cell_type": "code",
   "execution_count": 2,
   "id": "d5a2fb12",
   "metadata": {},
   "outputs": [],
   "source": [
    "df1 = pd.read_csv('train.csv', encoding='latin1')\n",
    "df2 = pd.read_csv('test.csv', encoding='latin1')"
   ]
  },
  {
   "cell_type": "markdown",
   "id": "1f29e83c",
   "metadata": {},
   "source": [
    "## EDA"
   ]
  },
  {
   "cell_type": "code",
   "execution_count": 3,
   "id": "344e85cd",
   "metadata": {},
   "outputs": [
    {
     "data": {
      "text/plain": [
       "Index(['Id', 'MSSubClass', 'MSZoning', 'LotFrontage', 'LotArea', 'Street',\n",
       "       'Alley', 'LotShape', 'LandContour', 'Utilities', 'LotConfig',\n",
       "       'LandSlope', 'Neighborhood', 'Condition1', 'Condition2', 'BldgType',\n",
       "       'HouseStyle', 'OverallQual', 'OverallCond', 'YearBuilt', 'YearRemodAdd',\n",
       "       'RoofStyle', 'RoofMatl', 'Exterior1st', 'Exterior2nd', 'MasVnrType',\n",
       "       'MasVnrArea', 'ExterQual', 'ExterCond', 'Foundation', 'BsmtQual',\n",
       "       'BsmtCond', 'BsmtExposure', 'BsmtFinType1', 'BsmtFinSF1',\n",
       "       'BsmtFinType2', 'BsmtFinSF2', 'BsmtUnfSF', 'TotalBsmtSF', 'Heating',\n",
       "       'HeatingQC', 'CentralAir', 'Electrical', '1stFlrSF', '2ndFlrSF',\n",
       "       'LowQualFinSF', 'GrLivArea', 'BsmtFullBath', 'BsmtHalfBath', 'FullBath',\n",
       "       'HalfBath', 'BedroomAbvGr', 'KitchenAbvGr', 'KitchenQual',\n",
       "       'TotRmsAbvGrd', 'Functional', 'Fireplaces', 'FireplaceQu', 'GarageType',\n",
       "       'GarageYrBlt', 'GarageFinish', 'GarageCars', 'GarageArea', 'GarageQual',\n",
       "       'GarageCond', 'PavedDrive', 'WoodDeckSF', 'OpenPorchSF',\n",
       "       'EnclosedPorch', '3SsnPorch', 'ScreenPorch', 'PoolArea', 'PoolQC',\n",
       "       'Fence', 'MiscFeature', 'MiscVal', 'MoSold', 'YrSold', 'SaleType',\n",
       "       'SaleCondition', 'SalePrice'],\n",
       "      dtype='object')"
      ]
     },
     "execution_count": 3,
     "metadata": {},
     "output_type": "execute_result"
    }
   ],
   "source": [
    "df1.columns"
   ]
  },
  {
   "cell_type": "code",
   "execution_count": 4,
   "id": "1d6aa68b",
   "metadata": {},
   "outputs": [
    {
     "name": "stdout",
     "output_type": "stream",
     "text": [
      "<class 'pandas.core.frame.DataFrame'>\n",
      "RangeIndex: 1460 entries, 0 to 1459\n",
      "Data columns (total 81 columns):\n",
      " #   Column         Non-Null Count  Dtype  \n",
      "---  ------         --------------  -----  \n",
      " 0   Id             1460 non-null   int64  \n",
      " 1   MSSubClass     1460 non-null   int64  \n",
      " 2   MSZoning       1460 non-null   object \n",
      " 3   LotFrontage    1201 non-null   float64\n",
      " 4   LotArea        1460 non-null   int64  \n",
      " 5   Street         1460 non-null   object \n",
      " 6   Alley          91 non-null     object \n",
      " 7   LotShape       1460 non-null   object \n",
      " 8   LandContour    1460 non-null   object \n",
      " 9   Utilities      1460 non-null   object \n",
      " 10  LotConfig      1460 non-null   object \n",
      " 11  LandSlope      1460 non-null   object \n",
      " 12  Neighborhood   1460 non-null   object \n",
      " 13  Condition1     1460 non-null   object \n",
      " 14  Condition2     1460 non-null   object \n",
      " 15  BldgType       1460 non-null   object \n",
      " 16  HouseStyle     1460 non-null   object \n",
      " 17  OverallQual    1460 non-null   int64  \n",
      " 18  OverallCond    1460 non-null   int64  \n",
      " 19  YearBuilt      1460 non-null   int64  \n",
      " 20  YearRemodAdd   1460 non-null   int64  \n",
      " 21  RoofStyle      1460 non-null   object \n",
      " 22  RoofMatl       1460 non-null   object \n",
      " 23  Exterior1st    1460 non-null   object \n",
      " 24  Exterior2nd    1460 non-null   object \n",
      " 25  MasVnrType     1452 non-null   object \n",
      " 26  MasVnrArea     1452 non-null   float64\n",
      " 27  ExterQual      1460 non-null   object \n",
      " 28  ExterCond      1460 non-null   object \n",
      " 29  Foundation     1460 non-null   object \n",
      " 30  BsmtQual       1423 non-null   object \n",
      " 31  BsmtCond       1423 non-null   object \n",
      " 32  BsmtExposure   1422 non-null   object \n",
      " 33  BsmtFinType1   1423 non-null   object \n",
      " 34  BsmtFinSF1     1460 non-null   int64  \n",
      " 35  BsmtFinType2   1422 non-null   object \n",
      " 36  BsmtFinSF2     1460 non-null   int64  \n",
      " 37  BsmtUnfSF      1460 non-null   int64  \n",
      " 38  TotalBsmtSF    1460 non-null   int64  \n",
      " 39  Heating        1460 non-null   object \n",
      " 40  HeatingQC      1460 non-null   object \n",
      " 41  CentralAir     1460 non-null   object \n",
      " 42  Electrical     1459 non-null   object \n",
      " 43  1stFlrSF       1460 non-null   int64  \n",
      " 44  2ndFlrSF       1460 non-null   int64  \n",
      " 45  LowQualFinSF   1460 non-null   int64  \n",
      " 46  GrLivArea      1460 non-null   int64  \n",
      " 47  BsmtFullBath   1460 non-null   int64  \n",
      " 48  BsmtHalfBath   1460 non-null   int64  \n",
      " 49  FullBath       1460 non-null   int64  \n",
      " 50  HalfBath       1460 non-null   int64  \n",
      " 51  BedroomAbvGr   1460 non-null   int64  \n",
      " 52  KitchenAbvGr   1460 non-null   int64  \n",
      " 53  KitchenQual    1460 non-null   object \n",
      " 54  TotRmsAbvGrd   1460 non-null   int64  \n",
      " 55  Functional     1460 non-null   object \n",
      " 56  Fireplaces     1460 non-null   int64  \n",
      " 57  FireplaceQu    770 non-null    object \n",
      " 58  GarageType     1379 non-null   object \n",
      " 59  GarageYrBlt    1379 non-null   float64\n",
      " 60  GarageFinish   1379 non-null   object \n",
      " 61  GarageCars     1460 non-null   int64  \n",
      " 62  GarageArea     1460 non-null   int64  \n",
      " 63  GarageQual     1379 non-null   object \n",
      " 64  GarageCond     1379 non-null   object \n",
      " 65  PavedDrive     1460 non-null   object \n",
      " 66  WoodDeckSF     1460 non-null   int64  \n",
      " 67  OpenPorchSF    1460 non-null   int64  \n",
      " 68  EnclosedPorch  1460 non-null   int64  \n",
      " 69  3SsnPorch      1460 non-null   int64  \n",
      " 70  ScreenPorch    1460 non-null   int64  \n",
      " 71  PoolArea       1460 non-null   int64  \n",
      " 72  PoolQC         7 non-null      object \n",
      " 73  Fence          281 non-null    object \n",
      " 74  MiscFeature    54 non-null     object \n",
      " 75  MiscVal        1460 non-null   int64  \n",
      " 76  MoSold         1460 non-null   int64  \n",
      " 77  YrSold         1460 non-null   int64  \n",
      " 78  SaleType       1460 non-null   object \n",
      " 79  SaleCondition  1460 non-null   object \n",
      " 80  SalePrice      1460 non-null   int64  \n",
      "dtypes: float64(3), int64(35), object(43)\n",
      "memory usage: 924.0+ KB\n"
     ]
    }
   ],
   "source": [
    "df1.info()"
   ]
  },
  {
   "cell_type": "code",
   "execution_count": 5,
   "id": "bdbfba01",
   "metadata": {},
   "outputs": [
    {
     "data": {
      "text/plain": [
       "(1460, 81)"
      ]
     },
     "execution_count": 5,
     "metadata": {},
     "output_type": "execute_result"
    }
   ],
   "source": [
    "df1.shape"
   ]
  },
  {
   "cell_type": "code",
   "execution_count": 6,
   "id": "6cfb5eb1",
   "metadata": {},
   "outputs": [
    {
     "name": "stdout",
     "output_type": "stream",
     "text": [
      "<class 'pandas.core.frame.DataFrame'>\n",
      "RangeIndex: 1459 entries, 0 to 1458\n",
      "Data columns (total 80 columns):\n",
      " #   Column         Non-Null Count  Dtype  \n",
      "---  ------         --------------  -----  \n",
      " 0   Id             1459 non-null   int64  \n",
      " 1   MSSubClass     1459 non-null   int64  \n",
      " 2   MSZoning       1455 non-null   object \n",
      " 3   LotFrontage    1232 non-null   float64\n",
      " 4   LotArea        1459 non-null   int64  \n",
      " 5   Street         1459 non-null   object \n",
      " 6   Alley          107 non-null    object \n",
      " 7   LotShape       1459 non-null   object \n",
      " 8   LandContour    1459 non-null   object \n",
      " 9   Utilities      1457 non-null   object \n",
      " 10  LotConfig      1459 non-null   object \n",
      " 11  LandSlope      1459 non-null   object \n",
      " 12  Neighborhood   1459 non-null   object \n",
      " 13  Condition1     1459 non-null   object \n",
      " 14  Condition2     1459 non-null   object \n",
      " 15  BldgType       1459 non-null   object \n",
      " 16  HouseStyle     1459 non-null   object \n",
      " 17  OverallQual    1459 non-null   int64  \n",
      " 18  OverallCond    1459 non-null   int64  \n",
      " 19  YearBuilt      1459 non-null   int64  \n",
      " 20  YearRemodAdd   1459 non-null   int64  \n",
      " 21  RoofStyle      1459 non-null   object \n",
      " 22  RoofMatl       1459 non-null   object \n",
      " 23  Exterior1st    1458 non-null   object \n",
      " 24  Exterior2nd    1458 non-null   object \n",
      " 25  MasVnrType     1443 non-null   object \n",
      " 26  MasVnrArea     1444 non-null   float64\n",
      " 27  ExterQual      1459 non-null   object \n",
      " 28  ExterCond      1459 non-null   object \n",
      " 29  Foundation     1459 non-null   object \n",
      " 30  BsmtQual       1415 non-null   object \n",
      " 31  BsmtCond       1414 non-null   object \n",
      " 32  BsmtExposure   1415 non-null   object \n",
      " 33  BsmtFinType1   1417 non-null   object \n",
      " 34  BsmtFinSF1     1458 non-null   float64\n",
      " 35  BsmtFinType2   1417 non-null   object \n",
      " 36  BsmtFinSF2     1458 non-null   float64\n",
      " 37  BsmtUnfSF      1458 non-null   float64\n",
      " 38  TotalBsmtSF    1458 non-null   float64\n",
      " 39  Heating        1459 non-null   object \n",
      " 40  HeatingQC      1459 non-null   object \n",
      " 41  CentralAir     1459 non-null   object \n",
      " 42  Electrical     1459 non-null   object \n",
      " 43  1stFlrSF       1459 non-null   int64  \n",
      " 44  2ndFlrSF       1459 non-null   int64  \n",
      " 45  LowQualFinSF   1459 non-null   int64  \n",
      " 46  GrLivArea      1459 non-null   int64  \n",
      " 47  BsmtFullBath   1457 non-null   float64\n",
      " 48  BsmtHalfBath   1457 non-null   float64\n",
      " 49  FullBath       1459 non-null   int64  \n",
      " 50  HalfBath       1459 non-null   int64  \n",
      " 51  BedroomAbvGr   1459 non-null   int64  \n",
      " 52  KitchenAbvGr   1459 non-null   int64  \n",
      " 53  KitchenQual    1458 non-null   object \n",
      " 54  TotRmsAbvGrd   1459 non-null   int64  \n",
      " 55  Functional     1457 non-null   object \n",
      " 56  Fireplaces     1459 non-null   int64  \n",
      " 57  FireplaceQu    729 non-null    object \n",
      " 58  GarageType     1383 non-null   object \n",
      " 59  GarageYrBlt    1381 non-null   float64\n",
      " 60  GarageFinish   1381 non-null   object \n",
      " 61  GarageCars     1458 non-null   float64\n",
      " 62  GarageArea     1458 non-null   float64\n",
      " 63  GarageQual     1381 non-null   object \n",
      " 64  GarageCond     1381 non-null   object \n",
      " 65  PavedDrive     1459 non-null   object \n",
      " 66  WoodDeckSF     1459 non-null   int64  \n",
      " 67  OpenPorchSF    1459 non-null   int64  \n",
      " 68  EnclosedPorch  1459 non-null   int64  \n",
      " 69  3SsnPorch      1459 non-null   int64  \n",
      " 70  ScreenPorch    1459 non-null   int64  \n",
      " 71  PoolArea       1459 non-null   int64  \n",
      " 72  PoolQC         3 non-null      object \n",
      " 73  Fence          290 non-null    object \n",
      " 74  MiscFeature    51 non-null     object \n",
      " 75  MiscVal        1459 non-null   int64  \n",
      " 76  MoSold         1459 non-null   int64  \n",
      " 77  YrSold         1459 non-null   int64  \n",
      " 78  SaleType       1458 non-null   object \n",
      " 79  SaleCondition  1459 non-null   object \n",
      "dtypes: float64(11), int64(26), object(43)\n",
      "memory usage: 912.0+ KB\n"
     ]
    }
   ],
   "source": [
    "df2.info()"
   ]
  },
  {
   "cell_type": "code",
   "execution_count": 7,
   "id": "e96cc4b8",
   "metadata": {},
   "outputs": [
    {
     "data": {
      "text/plain": [
       "Id                  0\n",
       "TotalBsmtSF         0\n",
       "Heating             0\n",
       "SaleCondition       0\n",
       "CentralAir          0\n",
       "1stFlrSF            0\n",
       "2ndFlrSF            0\n",
       "LowQualFinSF        0\n",
       "GrLivArea           0\n",
       "BsmtFullBath        0\n",
       "BsmtHalfBath        0\n",
       "FullBath            0\n",
       "HalfBath            0\n",
       "BedroomAbvGr        0\n",
       "KitchenAbvGr        0\n",
       "KitchenQual         0\n",
       "TotRmsAbvGrd        0\n",
       "Functional          0\n",
       "SaleType            0\n",
       "YrSold              0\n",
       "MoSold              0\n",
       "MiscVal             0\n",
       "PoolArea            0\n",
       "ScreenPorch         0\n",
       "BsmtUnfSF           0\n",
       "3SsnPorch           0\n",
       "OpenPorchSF         0\n",
       "WoodDeckSF          0\n",
       "PavedDrive          0\n",
       "GarageArea          0\n",
       "                 ... \n",
       "YearBuilt           0\n",
       "RoofStyle           0\n",
       "RoofMatl            0\n",
       "Exterior1st         0\n",
       "Exterior2nd         0\n",
       "ExterQual           0\n",
       "ExterCond           0\n",
       "Foundation          0\n",
       "MSSubClass          0\n",
       "YearRemodAdd        0\n",
       "Utilities           0\n",
       "Electrical          1\n",
       "MasVnrType          8\n",
       "MasVnrArea          8\n",
       "BsmtQual           37\n",
       "BsmtCond           37\n",
       "BsmtFinType1       37\n",
       "BsmtFinType2       38\n",
       "BsmtExposure       38\n",
       "GarageQual         81\n",
       "GarageFinish       81\n",
       "GarageYrBlt        81\n",
       "GarageType         81\n",
       "GarageCond         81\n",
       "LotFrontage       259\n",
       "FireplaceQu       690\n",
       "Fence            1179\n",
       "Alley            1369\n",
       "MiscFeature      1406\n",
       "PoolQC           1453\n",
       "Length: 81, dtype: int64"
      ]
     },
     "execution_count": 7,
     "metadata": {},
     "output_type": "execute_result"
    }
   ],
   "source": [
    "pd.options.display.min_rows = 115\n",
    "df1.isnull().sum().sort_values(ascending=True)\n",
    "#print(type(col))"
   ]
  },
  {
   "cell_type": "code",
   "execution_count": 8,
   "id": "5cbf20a6",
   "metadata": {},
   "outputs": [
    {
     "data": {
      "text/plain": [
       "Id                  0\n",
       "Foundation          0\n",
       "HeatingQC           0\n",
       "CentralAir          0\n",
       "Electrical          0\n",
       "1stFlrSF            0\n",
       "2ndFlrSF            0\n",
       "LowQualFinSF        0\n",
       "GrLivArea           0\n",
       "FullBath            0\n",
       "HalfBath            0\n",
       "BedroomAbvGr        0\n",
       "ExterCond           0\n",
       "KitchenAbvGr        0\n",
       "Fireplaces          0\n",
       "PavedDrive          0\n",
       "WoodDeckSF          0\n",
       "OpenPorchSF         0\n",
       "EnclosedPorch       0\n",
       "3SsnPorch           0\n",
       "ScreenPorch         0\n",
       "PoolArea            0\n",
       "MiscVal             0\n",
       "MoSold              0\n",
       "YrSold              0\n",
       "TotRmsAbvGrd        0\n",
       "ExterQual           0\n",
       "Heating             0\n",
       "SaleCondition       0\n",
       "OverallQual         0\n",
       "                 ... \n",
       "Exterior1st         1\n",
       "SaleType            1\n",
       "TotalBsmtSF         1\n",
       "BsmtUnfSF           1\n",
       "Exterior2nd         1\n",
       "BsmtFinSF1          1\n",
       "BsmtFinSF2          1\n",
       "BsmtFullBath        2\n",
       "Functional          2\n",
       "Utilities           2\n",
       "BsmtHalfBath        2\n",
       "MSZoning            4\n",
       "MasVnrArea         15\n",
       "MasVnrType         16\n",
       "BsmtFinType2       42\n",
       "BsmtFinType1       42\n",
       "BsmtExposure       44\n",
       "BsmtQual           44\n",
       "BsmtCond           45\n",
       "GarageType         76\n",
       "GarageFinish       78\n",
       "GarageYrBlt        78\n",
       "GarageQual         78\n",
       "GarageCond         78\n",
       "LotFrontage       227\n",
       "FireplaceQu       730\n",
       "Fence            1169\n",
       "Alley            1352\n",
       "MiscFeature      1408\n",
       "PoolQC           1456\n",
       "Length: 80, dtype: int64"
      ]
     },
     "execution_count": 8,
     "metadata": {},
     "output_type": "execute_result"
    }
   ],
   "source": [
    "pd.options.display.min_rows = 115\n",
    "df2.isnull().sum().sort_values(ascending=True)"
   ]
  },
  {
   "cell_type": "markdown",
   "id": "05812c7a",
   "metadata": {},
   "source": [
    "## DATA MANIPULATION "
   ]
  },
  {
   "cell_type": "code",
   "execution_count": 9,
   "id": "3e2d5400",
   "metadata": {},
   "outputs": [
    {
     "data": {
      "text/plain": [
       "array(['SBrkr', 'FuseF', 'FuseA', 'FuseP', 'Mix', nan], dtype=object)"
      ]
     },
     "execution_count": 9,
     "metadata": {},
     "output_type": "execute_result"
    }
   ],
   "source": [
    "df1.Electrical.unique()"
   ]
  },
  {
   "cell_type": "code",
   "execution_count": 10,
   "id": "7023136c",
   "metadata": {},
   "outputs": [
    {
     "data": {
      "text/plain": [
       "'SBrkr'"
      ]
     },
     "execution_count": 10,
     "metadata": {},
     "output_type": "execute_result"
    }
   ],
   "source": [
    "df1.Electrical.mode()[0]"
   ]
  },
  {
   "cell_type": "code",
   "execution_count": 11,
   "id": "32478e64",
   "metadata": {},
   "outputs": [
    {
     "data": {
      "text/plain": [
       "<Axes: >"
      ]
     },
     "execution_count": 11,
     "metadata": {},
     "output_type": "execute_result"
    },
    {
     "data": {
      "image/png": "[encoded data removed]",
      "text/plain": [
       "<Figure size 640x480 with 1 Axes>"
      ]
     },
     "metadata": {},
     "output_type": "display_data"
    }
   ],
   "source": [
    "df1['Electrical'].value_counts().plot.bar()"
   ]
  },
  {
   "cell_type": "code",
   "execution_count": 12,
   "id": "ef2000ed",
   "metadata": {},
   "outputs": [],
   "source": [
    "# fill with most frequent element\n",
    "df1['Electrical'].fillna(df1['Electrical'].mode()[0], inplace=True)"
   ]
  },
  {
   "cell_type": "code",
   "execution_count": 13,
   "id": "343b04bb",
   "metadata": {},
   "outputs": [
    {
     "data": {
      "text/plain": [
       "'TA'"
      ]
     },
     "execution_count": 13,
     "metadata": {},
     "output_type": "execute_result"
    }
   ],
   "source": [
    "df1['BsmtQual'].mode()[0]"
   ]
  },
  {
   "cell_type": "code",
   "execution_count": 14,
   "id": "201ba9df",
   "metadata": {},
   "outputs": [
    {
     "data": {
      "text/plain": [
       "<Axes: >"
      ]
     },
     "execution_count": 14,
     "metadata": {},
     "output_type": "execute_result"
    },
    {
     "data": {
      "image/png": "[encoded data removed]",
      "text/plain": [
       "<Figure size 640x480 with 1 Axes>"
      ]
     },
     "metadata": {},
     "output_type": "display_data"
    }
   ],
   "source": [
    "df1['BsmtQual'].value_counts().plot.bar()"
   ]
  },
  {
   "cell_type": "code",
   "execution_count": 15,
   "id": "0b2bcbe3",
   "metadata": {},
   "outputs": [],
   "source": [
    "# Since house is almost equally likely to have one type for basements of TA\n",
    "# and Gd, we fill empty rows randomly either TA or Gd\n",
    "import random\n",
    "random.uniform(0, 1)\n",
    "def getBSMNTtype(self) :\n",
    "    x = random.uniform(0, 1)\n",
    "    if x > 0.5 :\n",
    "        return 'TA'\n",
    "    else: \n",
    "        return 'Gd'\n",
    "    \n",
    "df1['BsmtQual'].fillna(df1['BsmtQual'].apply(getBSMNTtype), inplace=True) "
   ]
  },
  {
   "cell_type": "code",
   "execution_count": 16,
   "id": "337edbec",
   "metadata": {},
   "outputs": [
    {
     "data": {
      "text/plain": [
       "8"
      ]
     },
     "execution_count": 16,
     "metadata": {},
     "output_type": "execute_result"
    }
   ],
   "source": [
    "df1['MasVnrType'].isnull().sum()\n"
   ]
  },
  {
   "cell_type": "code",
   "execution_count": null,
   "id": "9df99cb2",
   "metadata": {},
   "outputs": [],
   "source": []
  },
  {
   "cell_type": "code",
   "execution_count": 17,
   "id": "9b0a75a0",
   "metadata": {},
   "outputs": [
    {
     "data": {
      "text/plain": [
       "None       864\n",
       "BrkFace    445\n",
       "Stone      128\n",
       "BrkCmn      15\n",
       "Name: MasVnrType, dtype: int64"
      ]
     },
     "execution_count": 17,
     "metadata": {},
     "output_type": "execute_result"
    }
   ],
   "source": [
    "df1['MasVnrType'].value_counts()"
   ]
  },
  {
   "cell_type": "code",
   "execution_count": 18,
   "id": "1fb53ef1",
   "metadata": {},
   "outputs": [],
   "source": [
    "df1['MasVnrType'].fillna(df1['MasVnrType'].mode()[0], inplace=True)"
   ]
  },
  {
   "cell_type": "code",
   "execution_count": 19,
   "id": "8ad18246",
   "metadata": {},
   "outputs": [
    {
     "data": {
      "text/plain": [
       "0.0      861\n",
       "180.0      8\n",
       "72.0       8\n",
       "108.0      8\n",
       "120.0      7\n",
       "16.0       7\n",
       "200.0      6\n",
       "340.0      6\n",
       "106.0      6\n",
       "80.0       6\n",
       "132.0      5\n",
       "320.0      5\n",
       "360.0      5\n",
       "84.0       5\n",
       "170.0      5\n",
       "220.0      4\n",
       "336.0      4\n",
       "183.0      4\n",
       "252.0      4\n",
       "196.0      4\n",
       "300.0      4\n",
       "268.0      4\n",
       "40.0       4\n",
       "168.0      4\n",
       "100.0      4\n",
       "270.0      4\n",
       "210.0      4\n",
       "76.0       4\n",
       "288.0      4\n",
       "216.0      4\n",
       "        ... \n",
       "466.0      1\n",
       "109.0      1\n",
       "479.0      1\n",
       "219.0      1\n",
       "175.0      1\n",
       "594.0      1\n",
       "296.0      1\n",
       "146.0      1\n",
       "616.0      1\n",
       "870.0      1\n",
       "530.0      1\n",
       "500.0      1\n",
       "510.0      1\n",
       "247.0      1\n",
       "255.0      1\n",
       "432.0      1\n",
       "126.0      1\n",
       "473.0      1\n",
       "376.0      1\n",
       "161.0      1\n",
       "224.0      1\n",
       "248.0      1\n",
       "772.0      1\n",
       "435.0      1\n",
       "378.0      1\n",
       "562.0      1\n",
       "89.0       1\n",
       "921.0      1\n",
       "762.0      1\n",
       "119.0      1\n",
       "Name: MasVnrArea, Length: 327, dtype: int64"
      ]
     },
     "execution_count": 19,
     "metadata": {},
     "output_type": "execute_result"
    }
   ],
   "source": [
    "df1['MasVnrArea'].value_counts()"
   ]
  },
  {
   "cell_type": "code",
   "execution_count": 20,
   "id": "f88d8c2d",
   "metadata": {},
   "outputs": [],
   "source": [
    "df1['MasVnrArea'].fillna(0, inplace=True)"
   ]
  },
  {
   "cell_type": "code",
   "execution_count": 21,
   "id": "6a41fd3c",
   "metadata": {},
   "outputs": [
    {
     "data": {
      "text/plain": [
       "<Axes: >"
      ]
     },
     "execution_count": 21,
     "metadata": {},
     "output_type": "execute_result"
    },
    {
     "data": {
      "image/png": "[encoded data removed]",
      "text/plain": [
       "<Figure size 640x480 with 1 Axes>"
      ]
     },
     "metadata": {},
     "output_type": "display_data"
    }
   ],
   "source": [
    "df1['BsmtFinType1'].value_counts().plot.bar()\n"
   ]
  },
  {
   "cell_type": "code",
   "execution_count": 22,
   "id": "8dd4021e",
   "metadata": {},
   "outputs": [],
   "source": [
    "# Since house is almost equally likely to have one type for basements of TA\n",
    "# and Gd, we fill empty rows randomly either TA or Gd\n",
    "import random\n",
    "random.uniform(0, 1)\n",
    "def getType(self) :\n",
    "    x = random.uniform(0, 1)\n",
    "    if x > 0.5 :\n",
    "        return 'Unf'\n",
    "    else: \n",
    "        return 'GLO'\n",
    "    \n",
    "df1['BsmtFinType1'].fillna(df1['BsmtFinType1'].apply(getBSMNTtype), inplace=True)     \n",
    "    "
   ]
  },
  {
   "cell_type": "code",
   "execution_count": 23,
   "id": "2610938c",
   "metadata": {},
   "outputs": [
    {
     "data": {
      "text/plain": [
       "<Axes: >"
      ]
     },
     "execution_count": 23,
     "metadata": {},
     "output_type": "execute_result"
    },
    {
     "data": {
      "image/png": "[encoded data removed]",
      "text/plain": [
       "<Figure size 640x480 with 1 Axes>"
      ]
     },
     "metadata": {},
     "output_type": "display_data"
    }
   ],
   "source": [
    "df1['BsmtCond'].value_counts().plot.bar()"
   ]
  },
  {
   "cell_type": "code",
   "execution_count": 24,
   "id": "7192dd85",
   "metadata": {},
   "outputs": [],
   "source": [
    "df1['BsmtCond'].fillna(df1['BsmtCond'].mode()[0], inplace=True)"
   ]
  },
  {
   "cell_type": "code",
   "execution_count": 25,
   "id": "b1f9ace9",
   "metadata": {},
   "outputs": [
    {
     "data": {
      "text/plain": [
       "<Axes: >"
      ]
     },
     "execution_count": 25,
     "metadata": {},
     "output_type": "execute_result"
    },
    {
     "data": {
      "image/png": "[encoded data removed]",
      "text/plain": [
       "<Figure size 640x480 with 1 Axes>"
      ]
     },
     "metadata": {},
     "output_type": "display_data"
    }
   ],
   "source": [
    "df1['BsmtExposure'].value_counts().plot.bar()"
   ]
  },
  {
   "cell_type": "code",
   "execution_count": 26,
   "id": "a2a7cfe7",
   "metadata": {},
   "outputs": [],
   "source": [
    "df1['BsmtExposure'].fillna(df1['BsmtExposure'].mode()[0], inplace=True)"
   ]
  },
  {
   "cell_type": "code",
   "execution_count": 27,
   "id": "d5d6da8c",
   "metadata": {},
   "outputs": [
    {
     "data": {
      "text/plain": [
       "<Axes: >"
      ]
     },
     "execution_count": 27,
     "metadata": {},
     "output_type": "execute_result"
    },
    {
     "data": {
      "image/png": "[encoded data removed]",
      "text/plain": [
       "<Figure size 640x480 with 1 Axes>"
      ]
     },
     "metadata": {},
     "output_type": "display_data"
    }
   ],
   "source": [
    "df1['BsmtFinType2'].value_counts().plot.bar()"
   ]
  },
  {
   "cell_type": "code",
   "execution_count": 28,
   "id": "29aad8a6",
   "metadata": {},
   "outputs": [],
   "source": [
    "df1['BsmtFinType2'].fillna(df1['BsmtFinType2'].mode()[0], inplace=True)"
   ]
  },
  {
   "cell_type": "code",
   "execution_count": 29,
   "id": "47dd014c",
   "metadata": {},
   "outputs": [
    {
     "data": {
      "text/plain": [
       "<Axes: >"
      ]
     },
     "execution_count": 29,
     "metadata": {},
     "output_type": "execute_result"
    },
    {
     "data": {
      "image/png": "[encoded data removed]",
      "text/plain": [
       "<Figure size 640x480 with 1 Axes>"
      ]
     },
     "metadata": {},
     "output_type": "display_data"
    }
   ],
   "source": [
    "#GarageQual\n",
    "df1['GarageQual'].value_counts().plot.bar()"
   ]
  },
  {
   "cell_type": "code",
   "execution_count": 30,
   "id": "b8aefd56",
   "metadata": {},
   "outputs": [],
   "source": [
    "df1['GarageQual'].fillna(df1['GarageQual'].mode()[0], inplace = True)"
   ]
  },
  {
   "cell_type": "code",
   "execution_count": 31,
   "id": "2e1995d5",
   "metadata": {},
   "outputs": [
    {
     "data": {
      "text/plain": [
       "<Axes: >"
      ]
     },
     "execution_count": 31,
     "metadata": {},
     "output_type": "execute_result"
    },
    {
     "data": {
      "image/png": "[encoded data removed]",
      "text/plain": [
       "<Figure size 640x480 with 1 Axes>"
      ]
     },
     "metadata": {},
     "output_type": "display_data"
    }
   ],
   "source": [
    "#GarageFinish       \n",
    "df1['GarageFinish'].value_counts().plot.bar()"
   ]
  },
  {
   "cell_type": "code",
   "execution_count": 32,
   "id": "79879e70",
   "metadata": {},
   "outputs": [
    {
     "data": {
      "text/plain": [
       "Unf    0.438724\n",
       "RFn    0.306019\n",
       "Fin    0.255257\n",
       "Name: GarageFinish, dtype: float64"
      ]
     },
     "execution_count": 32,
     "metadata": {},
     "output_type": "execute_result"
    }
   ],
   "source": [
    "# my understanding is that \n",
    "# Unf: unfinished\n",
    "# RFn: renovated finished?\n",
    "# Fin: finished\n",
    "\n",
    "df1['GarageFinish'].value_counts(normalize=True)"
   ]
  },
  {
   "cell_type": "code",
   "execution_count": 33,
   "id": "59c6e6d1",
   "metadata": {},
   "outputs": [
    {
     "data": {
      "text/plain": [
       "array(['RFn', 'Unf', 'Fin', nan], dtype=object)"
      ]
     },
     "execution_count": 33,
     "metadata": {},
     "output_type": "execute_result"
    }
   ],
   "source": [
    "df1['GarageFinish'].unique()"
   ]
  },
  {
   "cell_type": "code",
   "execution_count": 34,
   "id": "a7674368",
   "metadata": {},
   "outputs": [],
   "source": [
    "\n",
    "\n",
    "# Since house is almost equally likely to have one type for garage types \n",
    "# and Gd, we fill empty rows randomly either Rfn/Unf/Fin\n",
    "import random\n",
    "random.uniform(0, 1)\n",
    "\n",
    "def getType(self) :\n",
    "    x = random.uniform(0, 1)\n",
    "    if x < 0.44 :\n",
    "        return 'RFn'\n",
    "    elif  0.44 <=x and x < 76 :\n",
    "        return 'Unf' \n",
    "    else :\n",
    "        return  'Fin'\n",
    "    \n",
    "df1['GarageFinish'].fillna(df1['GarageFinish'].apply(getType), inplace = True)\n",
    "\n"
   ]
  },
  {
   "cell_type": "code",
   "execution_count": 35,
   "id": "54aa3ca3",
   "metadata": {},
   "outputs": [
    {
     "data": {
      "text/plain": [
       "Unf    0.452571\n",
       "RFn    0.281680\n",
       "Fin    0.265749\n",
       "Name: GarageFinish, dtype: float64"
      ]
     },
     "execution_count": 35,
     "metadata": {},
     "output_type": "execute_result"
    }
   ],
   "source": [
    "df2['GarageFinish'].value_counts(normalize=True)"
   ]
  },
  {
   "cell_type": "code",
   "execution_count": 36,
   "id": "57a4f84a",
   "metadata": {},
   "outputs": [],
   "source": [
    "import random\n",
    "random.uniform(0, 1)\n",
    "\n",
    "def getType(self) :\n",
    "    x = random.uniform(0, 1)\n",
    "    if x < 0.45 :\n",
    "        return 'Unf'\n",
    "    elif  0.45 <=x and x < 74 :\n",
    "        return 'RFn' \n",
    "    else :\n",
    "        return  'Fin'\n",
    "df2['GarageFinish'].fillna(df2['GarageFinish'].apply(getType), inplace = True)    "
   ]
  },
  {
   "cell_type": "code",
   "execution_count": null,
   "id": "12b3556f",
   "metadata": {},
   "outputs": [],
   "source": []
  },
  {
   "cell_type": "code",
   "execution_count": 37,
   "id": "cb22a691",
   "metadata": {},
   "outputs": [],
   "source": [
    "## my understanding is that \n",
    "# Unf: unfinished\n",
    "# RFn: renovated finished?\n",
    "# Fin: finished\n",
    "# So I accept renovated garage as finished as well. \n",
    "df1['GarageFinish'] = np.where( (df1['GarageFinish'] == 'RFn') | (df1['GarageFinish']=='Fin'), 1, \\\n",
    "                            np.where((df1['GarageFinish'] == 'Unf') , 0, df1['GarageFinish']) )\n",
    "\n",
    "\n",
    "df2['GarageFinish'] = np.where( (df2['GarageFinish'] == 'RFn') | (df2['GarageFinish']=='Fin'), 1, \\\n",
    "                            np.where((df2['GarageFinish'] == 'Unf') , 0, df2['GarageFinish']) )\n"
   ]
  },
  {
   "cell_type": "code",
   "execution_count": 38,
   "id": "72df657a",
   "metadata": {
    "scrolled": true
   },
   "outputs": [
    {
     "name": "stdout",
     "output_type": "stream",
     "text": [
      "['MSSubClass', 'MSZoning', 'LotArea', 'Street', 'LotShape', 'LandContour', 'Utilities', 'LotConfig', 'LandSlope', 'Neighborhood', 'Condition1', 'Condition2', 'BldgType', 'HouseStyle', 'OverallQual', 'OverallCond', 'RoofStyle', 'RoofMatl', 'Exterior1st', 'Exterior2nd', 'MasVnrType', 'MasVnrArea', 'ExterQual', 'ExterCond', 'Foundation', 'BsmtQual', 'BsmtCond', 'BsmtExposure', 'BsmtFinType1', 'BsmtFinSF1', 'BsmtFinType2', 'BsmtFinSF2', 'BsmtUnfSF', 'TotalBsmtSF', 'Heating', 'HeatingQC', 'CentralAir', 'Electrical', '1stFlrSF', '2ndFlrSF', 'LowQualFinSF', 'GrLivArea', 'BsmtFullBath', 'BsmtHalfBath', 'FullBath', 'HalfBath', 'BedroomAbvGr', 'KitchenAbvGr', 'KitchenQual', 'TotRmsAbvGrd', 'Functional', 'Fireplaces', 'GarageFinish', 'GarageCars', 'GarageArea', 'GarageQual', 'PavedDrive', 'WoodDeckSF', 'OpenPorchSF', 'EnclosedPorch', '3SsnPorch', 'ScreenPorch', 'PoolArea', 'MiscVal', 'SaleCondition']\n"
     ]
    }
   ],
   "source": [
    "df1.columns\n",
    "col_list = [];\n",
    "for col in df1.columns :\n",
    "    if df1[col].isnull().sum() == 0 :\n",
    "        col_list.append(col)\n",
    "        #print(col)\n",
    "col_list.remove('Id')\n",
    "col_list.remove('SalePrice') \n",
    "col_list.remove('YearBuilt')\n",
    "col_list.remove('YearRemodAdd')\n",
    "col_list.remove('SaleType')\n",
    "col_list.remove('YrSold')\n",
    "col_list.remove('MoSold')\n",
    "print(col_list)"
   ]
  },
  {
   "cell_type": "code",
   "execution_count": 39,
   "id": "b5ba692f",
   "metadata": {},
   "outputs": [],
   "source": [
    "df1['Age'] = 2023 - df1['YearBuilt']\n",
    "df1['RemodAge'] = 2023 - df1['YearRemodAdd']\n",
    "df1['SoldAge'] = 2023 - df1['YrSold']\n"
   ]
  },
  {
   "cell_type": "code",
   "execution_count": 40,
   "id": "4eed4e0c",
   "metadata": {},
   "outputs": [
    {
     "name": "stdout",
     "output_type": "stream",
     "text": [
      "(1460, 213)\n",
      "(81, 213)\n",
      "(1379, 213)\n"
     ]
    },
    {
     "name": "stderr",
     "output_type": "stream",
     "text": [
      "C:\\Users\\haluk\\AppData\\Local\\Temp\\ipykernel_20188\\2441489412.py:21: FutureWarning: In a future version, the Index constructor will not infer numeric dtypes when passed object-dtype sequences (matching Series behavior)\n",
      "  x= pd.get_dummies(x,drop_first=True)\n"
     ]
    }
   ],
   "source": [
    "# GarageYrBlt TAHMINI\n",
    "\n",
    "y = df1['SalePrice']\n",
    "\n",
    "predict_column = 'GarageYrBlt'\n",
    "\n",
    "features = ['MSSubClass', 'MSZoning', 'LotArea', 'Street', 'LotShape', 'LandContour', 'Utilities', 'LotConfig', 'LandSlope', \n",
    "            'Neighborhood', 'Condition1', 'Condition2', 'BldgType', 'HouseStyle', 'OverallQual', 'OverallCond', 'RoofStyle', \n",
    "            'RoofMatl', 'Exterior1st', 'Exterior2nd', 'MasVnrType', 'MasVnrArea', 'ExterQual', 'ExterCond', 'Foundation', \n",
    "            'BsmtQual', 'BsmtCond', 'BsmtExposure', 'BsmtFinType1', 'BsmtFinSF1', 'BsmtFinType2', 'BsmtFinSF2', 'BsmtUnfSF',\n",
    "            'TotalBsmtSF', 'Heating', 'HeatingQC', 'CentralAir', 'Electrical', '1stFlrSF', '2ndFlrSF', 'LowQualFinSF', \n",
    "            'GrLivArea', 'BsmtFullBath', 'BsmtHalfBath', 'FullBath', 'HalfBath', 'BedroomAbvGr', 'KitchenAbvGr', \n",
    "            'KitchenQual', 'TotRmsAbvGrd', 'Functional', 'Fireplaces', 'GarageFinish', 'GarageCars', 'GarageArea', \n",
    "            'GarageQual', 'PavedDrive', 'WoodDeckSF', 'OpenPorchSF', 'EnclosedPorch', '3SsnPorch', 'ScreenPorch', \n",
    "            'PoolArea', 'MiscVal', 'SaleCondition', 'Age', 'RemodAge', 'SoldAge']\n",
    "\n",
    "test_indices = df1[df1[predict_column].isnull()].index\n",
    "train_df = df1.drop(test_indices)\n",
    "\n",
    "x = df1[features]\n",
    "x= pd.get_dummies(x,drop_first=True)\n",
    "print(x.shape)\n",
    "\n",
    "\n",
    "x_test = x.loc[test_indices]\n",
    "print(x_test.shape)\n",
    "x.drop(test_indices, axis=0, inplace = True)\n",
    "x_train = x\n",
    "print(x_train.shape)\n",
    "\n",
    "y_train = train_df[predict_column].astype(int)\n",
    "\n",
    "#test_df = df1.loc[test_indices]\n",
    "#train_df = df1.drop(test_indices)\n",
    "\n",
    "#x_train = train_df[features]\n",
    "#x_train = pd.get_dummies(x_train,drop_first=True)\n",
    "#y_train = train_df[predict_column].astype(int)\n",
    "#x_test = test_df[features]\n",
    "#x_test = pd.get_dummies(x_test,drop_first = True)"
   ]
  },
  {
   "cell_type": "code",
   "execution_count": 41,
   "id": "04c0e211",
   "metadata": {},
   "outputs": [
    {
     "data": {
      "text/plain": [
       "((1379, 213), (81, 213), (1379,))"
      ]
     },
     "execution_count": 41,
     "metadata": {},
     "output_type": "execute_result"
    }
   ],
   "source": [
    "x_train.shape,x_test.shape,y_train.shape"
   ]
  },
  {
   "cell_type": "code",
   "execution_count": 42,
   "id": "2e0df49c",
   "metadata": {},
   "outputs": [
    {
     "data": {
      "text/plain": [
       "((1379, 213), (81, 213), (1379,))"
      ]
     },
     "execution_count": 42,
     "metadata": {},
     "output_type": "execute_result"
    }
   ],
   "source": [
    "x_train.shape,x_test.shape,y_train.shape"
   ]
  },
  {
   "cell_type": "code",
   "execution_count": 43,
   "id": "7a70e5ca",
   "metadata": {},
   "outputs": [],
   "source": [
    "from xgboost import XGBRegressor\n",
    "xgb=XGBRegressor()\n",
    "XGBC= XGBRegressor()\n",
    "model=XGBC.fit(x_train,y_train)\n",
    "pred=model.predict(x_test)"
   ]
  },
  {
   "cell_type": "code",
   "execution_count": 44,
   "id": "92e0192b",
   "metadata": {},
   "outputs": [],
   "source": [
    "y_pred_xgb = model.predict(x_test)"
   ]
  },
  {
   "cell_type": "code",
   "execution_count": 45,
   "id": "b10a3320",
   "metadata": {},
   "outputs": [],
   "source": [
    "df1.loc[df1['GarageYrBlt'].isnull(), 'GarageYrBlt'] =  y_pred_xgb"
   ]
  },
  {
   "cell_type": "code",
   "execution_count": 46,
   "id": "933aa892",
   "metadata": {},
   "outputs": [],
   "source": [
    "df1['GarageYrBlt'] = df1['GarageYrBlt'].astype(int)\n"
   ]
  },
  {
   "cell_type": "code",
   "execution_count": 47,
   "id": "4244eaa4",
   "metadata": {},
   "outputs": [
    {
     "data": {
      "text/plain": [
       "0       1961\n",
       "1       1958\n",
       "2       1997\n",
       "3       1998\n",
       "4       1992\n",
       "5       1993\n",
       "6       1992\n",
       "7       1998\n",
       "8       1990\n",
       "9       1970\n",
       "10      1999\n",
       "11      1971\n",
       "12      1997\n",
       "13      1975\n",
       "14      1975\n",
       "15      2009\n",
       "16      2009\n",
       "17      2005\n",
       "18      2005\n",
       "19      2003\n",
       "20      2002\n",
       "21      2006\n",
       "22      2005\n",
       "23      2006\n",
       "24      2004\n",
       "25      2004\n",
       "26      1998\n",
       "27      2005\n",
       "28      2009\n",
       "29      2005\n",
       "        ... \n",
       "1429    1925\n",
       "1430    1957\n",
       "1431    1977\n",
       "1432    1977\n",
       "1433    1977\n",
       "1434    2005\n",
       "1435    2004\n",
       "1436    1979\n",
       "1437    1978\n",
       "1438    2001\n",
       "1439    1975\n",
       "1440    1958\n",
       "1441    2000\n",
       "1442    2005\n",
       "1443    2005\n",
       "1444    1951\n",
       "1445    1997\n",
       "1446    1977\n",
       "1447    1968\n",
       "1448    1970\n",
       "1449    1977\n",
       "1450    1972\n",
       "1451    1969\n",
       "1452    1970\n",
       "1453    1977\n",
       "1454    1977\n",
       "1455    1970\n",
       "1456    1960\n",
       "1457    1977\n",
       "1458    1993\n",
       "Name: GarageYrBlt, Length: 1459, dtype: int32"
      ]
     },
     "execution_count": 47,
     "metadata": {},
     "output_type": "execute_result"
    }
   ],
   "source": [
    "df2['GarageYrBlt'].fillna(df2['GarageYrBlt'].mean(), inplace = True )\n",
    "df2['GarageYrBlt'].astype(int)"
   ]
  },
  {
   "cell_type": "code",
   "execution_count": 48,
   "id": "dc149361",
   "metadata": {},
   "outputs": [],
   "source": [
    "df1['GarageAge'] = 2023 - df1['GarageYrBlt']\n",
    "df2['GarageAge'] = 2023 - df2['GarageYrBlt']\n",
    "\n",
    "\n",
    "df2['Age'] = 2023 - df2['YearBuilt']\n",
    "df2['RemodAge'] = 2023 - df2['YearRemodAdd']\n",
    "df2['SoldAge'] = 2023 - df2['YrSold']\n",
    "\n",
    "df1 = df1.drop('YearBuilt', axis=1)\n",
    "df1 = df1.drop('YearRemodAdd', axis=1)\n",
    "df1 = df1.drop('YrSold', axis=1)\n",
    "df1 = df1.drop('GarageYrBlt', axis=1)\n",
    "\n",
    "\n",
    "df2 = df2.drop('YearBuilt', axis=1)\n",
    "df2 = df2.drop('YearRemodAdd', axis=1)\n",
    "df2 = df2.drop('YrSold', axis=1)\n",
    "df2 = df2.drop('GarageYrBlt', axis=1)"
   ]
  },
  {
   "cell_type": "code",
   "execution_count": 49,
   "id": "a5696526",
   "metadata": {},
   "outputs": [
    {
     "data": {
      "text/plain": [
       "<Axes: >"
      ]
     },
     "execution_count": 49,
     "metadata": {},
     "output_type": "execute_result"
    },
    {
     "data": {
      "image/png": "[encoded data removed]",
      "text/plain": [
       "<Figure size 640x480 with 1 Axes>"
      ]
     },
     "metadata": {},
     "output_type": "display_data"
    }
   ],
   "source": [
    "df1['GarageCond'].value_counts().plot.bar()"
   ]
  },
  {
   "cell_type": "code",
   "execution_count": 50,
   "id": "3e284d01",
   "metadata": {},
   "outputs": [],
   "source": [
    "df1['GarageCond'].fillna(df1['GarageCond'].mode()[0],inplace = True )"
   ]
  },
  {
   "cell_type": "code",
   "execution_count": 51,
   "id": "d27b745d",
   "metadata": {},
   "outputs": [
    {
     "data": {
      "text/plain": [
       "0"
      ]
     },
     "execution_count": 51,
     "metadata": {},
     "output_type": "execute_result"
    }
   ],
   "source": [
    "df1['GarageCond'].isnull().sum()"
   ]
  },
  {
   "cell_type": "code",
   "execution_count": 52,
   "id": "19fec465",
   "metadata": {},
   "outputs": [
    {
     "data": {
      "text/plain": [
       "<Axes: >"
      ]
     },
     "execution_count": 52,
     "metadata": {},
     "output_type": "execute_result"
    },
    {
     "data": {
      "image/png": "[encoded data removed]",
      "text/plain": [
       "<Figure size 640x480 with 1 Axes>"
      ]
     },
     "metadata": {},
     "output_type": "display_data"
    }
   ],
   "source": [
    "df1['GarageType'].value_counts().plot.bar()"
   ]
  },
  {
   "cell_type": "code",
   "execution_count": 53,
   "id": "978bac4f",
   "metadata": {},
   "outputs": [],
   "source": [
    "df1['GarageType'].fillna( df1['GarageType'].mode()[0], inplace = True )"
   ]
  },
  {
   "cell_type": "code",
   "execution_count": 54,
   "id": "6cbb6175",
   "metadata": {},
   "outputs": [
    {
     "data": {
      "text/plain": [
       "0"
      ]
     },
     "execution_count": 54,
     "metadata": {},
     "output_type": "execute_result"
    }
   ],
   "source": [
    "df1['GarageType'].isnull().sum()"
   ]
  },
  {
   "cell_type": "code",
   "execution_count": 55,
   "id": "1e2a4d74",
   "metadata": {},
   "outputs": [
    {
     "name": "stdout",
     "output_type": "stream",
     "text": [
      "(1460, 223)\n",
      "(259, 223)\n",
      "(1201, 223)\n"
     ]
    },
    {
     "name": "stderr",
     "output_type": "stream",
     "text": [
      "C:\\Users\\haluk\\AppData\\Local\\Temp\\ipykernel_20188\\3364844577.py:22: FutureWarning: In a future version, the Index constructor will not infer numeric dtypes when passed object-dtype sequences (matching Series behavior)\n",
      "  x= pd.get_dummies(x,drop_first=True)\n"
     ]
    }
   ],
   "source": [
    "#'LotFrontage' ESTIMATION\n",
    "\n",
    "y = df1['SalePrice']\n",
    "\n",
    "predict_column = 'LotFrontage'\n",
    "\n",
    "features = ['MSSubClass', 'MSZoning', 'LotArea', 'Street', 'LotShape', 'LandContour', 'Utilities', 'LotConfig',\n",
    "            'LandSlope', 'Neighborhood', 'Condition1', 'Condition2', 'BldgType', 'HouseStyle', 'OverallQual', \n",
    "            'OverallCond', 'RoofStyle', 'RoofMatl', 'Exterior1st', 'Exterior2nd', 'MasVnrType', 'MasVnrArea', \n",
    "            'ExterQual', 'ExterCond', 'Foundation', 'BsmtQual', 'BsmtCond', 'BsmtExposure', 'BsmtFinType1', \n",
    "            'BsmtFinSF1', 'BsmtFinType2', 'BsmtFinSF2', 'BsmtUnfSF', 'TotalBsmtSF', 'Heating', 'HeatingQC', \n",
    "            'CentralAir', 'Electrical', '1stFlrSF', '2ndFlrSF', 'LowQualFinSF', 'GrLivArea', 'BsmtFullBath', \n",
    "            'BsmtHalfBath', 'FullBath', 'HalfBath', 'BedroomAbvGr', 'KitchenAbvGr', 'KitchenQual', 'TotRmsAbvGrd', \n",
    "            'Functional', 'Fireplaces', 'GarageType', 'GarageAge', 'GarageFinish', 'GarageCars', 'GarageArea', \n",
    "            'GarageQual', 'GarageCond', 'PavedDrive', 'WoodDeckSF', 'OpenPorchSF', 'EnclosedPorch', '3SsnPorch', \n",
    "            'ScreenPorch', 'PoolArea', 'MiscVal', 'SaleCondition', 'Age', 'RemodAge', 'SoldAge']\n",
    "\n",
    "test_indices = df1[df1[predict_column].isnull()].index\n",
    "train_df = df1.drop(test_indices)\n",
    "\n",
    "x = df1[features]\n",
    "x= pd.get_dummies(x,drop_first=True)\n",
    "print(x.shape)\n",
    "\n",
    "\n",
    "x_test = x.loc[test_indices]\n",
    "print(x_test.shape)\n",
    "x.drop(test_indices, axis=0, inplace = True)\n",
    "x_train = x\n",
    "print(x_train.shape)\n",
    "\n",
    "y_train = train_df[predict_column].astype(int)"
   ]
  },
  {
   "cell_type": "code",
   "execution_count": 56,
   "id": "f46b68ad",
   "metadata": {},
   "outputs": [],
   "source": [
    "xgb=XGBRegressor()\n",
    "XGBC= XGBRegressor()\n",
    "model=XGBC.fit(x_train,y_train)\n",
    "pred=model.predict(x_test)"
   ]
  },
  {
   "cell_type": "code",
   "execution_count": 57,
   "id": "ad1fbaa7",
   "metadata": {},
   "outputs": [],
   "source": [
    "y_pred_xgb = model.predict(x_test)"
   ]
  },
  {
   "cell_type": "code",
   "execution_count": 58,
   "id": "887e651c",
   "metadata": {},
   "outputs": [],
   "source": [
    "df1.loc[df1['LotFrontage'].isnull(), 'LotFrontage'] =  y_pred_xgb"
   ]
  },
  {
   "cell_type": "code",
   "execution_count": 59,
   "id": "acebe221",
   "metadata": {},
   "outputs": [],
   "source": [
    "df2['LotFrontage'].fillna(df2['LotFrontage'].mean(),inplace=True)"
   ]
  },
  {
   "cell_type": "code",
   "execution_count": 60,
   "id": "df0e0547",
   "metadata": {},
   "outputs": [],
   "source": [
    "# i ASSUME THAT almost half 669 have no fire place"
   ]
  },
  {
   "cell_type": "code",
   "execution_count": 61,
   "id": "a57137aa",
   "metadata": {},
   "outputs": [
    {
     "data": {
      "text/plain": [
       "<Axes: >"
      ]
     },
     "execution_count": 61,
     "metadata": {},
     "output_type": "execute_result"
    },
    {
     "data": {
      "image/png": "[encoded data removed]",
      "text/plain": [
       "<Figure size 640x480 with 1 Axes>"
      ]
     },
     "metadata": {},
     "output_type": "display_data"
    }
   ],
   "source": [
    "df1['FireplaceQu'].value_counts().plot.bar()"
   ]
  },
  {
   "cell_type": "code",
   "execution_count": 62,
   "id": "558c0cd5",
   "metadata": {},
   "outputs": [
    {
     "data": {
      "text/plain": [
       "690"
      ]
     },
     "execution_count": 62,
     "metadata": {},
     "output_type": "execute_result"
    }
   ],
   "source": [
    "df1['FireplaceQu'].isnull().sum()"
   ]
  },
  {
   "cell_type": "code",
   "execution_count": 63,
   "id": "2ae485ec",
   "metadata": {},
   "outputs": [],
   "source": [
    "df1['FireplaceQu'].fillna('None',inplace=True)\n",
    "df2['FireplaceQu'].fillna('None',inplace=True)"
   ]
  },
  {
   "cell_type": "code",
   "execution_count": 64,
   "id": "0d3d9699",
   "metadata": {},
   "outputs": [
    {
     "data": {
      "text/plain": [
       "<Axes: >"
      ]
     },
     "execution_count": 64,
     "metadata": {},
     "output_type": "execute_result"
    },
    {
     "data": {
      "image/png": "[encoded data removed]",
      "text/plain": [
       "<Figure size 640x480 with 1 Axes>"
      ]
     },
     "metadata": {},
     "output_type": "display_data"
    }
   ],
   "source": [
    "df1['Fence'].value_counts().plot.bar()"
   ]
  },
  {
   "cell_type": "code",
   "execution_count": 65,
   "id": "3586ce22",
   "metadata": {},
   "outputs": [],
   "source": [
    "df1['Fence'].fillna('None',inplace=True)\n",
    "df2['Fence'].fillna('None',inplace=True)"
   ]
  },
  {
   "cell_type": "code",
   "execution_count": 66,
   "id": "fc1153db",
   "metadata": {},
   "outputs": [
    {
     "data": {
      "text/plain": [
       "<Axes: >"
      ]
     },
     "execution_count": 66,
     "metadata": {},
     "output_type": "execute_result"
    },
    {
     "data": {
      "image/png": "[encoded data removed]",
      "text/plain": [
       "<Figure size 640x480 with 1 Axes>"
      ]
     },
     "metadata": {},
     "output_type": "display_data"
    }
   ],
   "source": [
    "df1['Alley'].value_counts().plot.bar()"
   ]
  },
  {
   "cell_type": "code",
   "execution_count": 67,
   "id": "3145fdb6",
   "metadata": {},
   "outputs": [],
   "source": [
    "df1['Alley'].fillna('None',inplace=True)\n",
    "df2['Alley'].fillna('None',inplace=True)"
   ]
  },
  {
   "cell_type": "code",
   "execution_count": 68,
   "id": "be435f2a",
   "metadata": {},
   "outputs": [
    {
     "data": {
      "text/plain": [
       "array([nan, 'Shed', 'Gar2', 'Othr', 'TenC'], dtype=object)"
      ]
     },
     "execution_count": 68,
     "metadata": {},
     "output_type": "execute_result"
    }
   ],
   "source": [
    "df1['MiscFeature'].unique()"
   ]
  },
  {
   "cell_type": "code",
   "execution_count": 69,
   "id": "e267e155",
   "metadata": {},
   "outputs": [
    {
     "data": {
      "text/plain": [
       "<Axes: >"
      ]
     },
     "execution_count": 69,
     "metadata": {},
     "output_type": "execute_result"
    },
    {
     "data": {
      "image/png": "[encoded data removed]",
      "text/plain": [
       "<Figure size 640x480 with 1 Axes>"
      ]
     },
     "metadata": {},
     "output_type": "display_data"
    }
   ],
   "source": [
    "df1['MiscFeature'].value_counts().plot.bar()"
   ]
  },
  {
   "cell_type": "code",
   "execution_count": 70,
   "id": "42e4cc50",
   "metadata": {},
   "outputs": [],
   "source": [
    "df1 = df1.drop('MiscFeature', axis=1)\n",
    "df2 = df2.drop('MiscFeature', axis=1)"
   ]
  },
  {
   "cell_type": "code",
   "execution_count": 71,
   "id": "de3606b2",
   "metadata": {},
   "outputs": [
    {
     "data": {
      "text/plain": [
       "array([nan, 'Ex', 'Fa', 'Gd'], dtype=object)"
      ]
     },
     "execution_count": 71,
     "metadata": {},
     "output_type": "execute_result"
    }
   ],
   "source": [
    "df1['PoolQC'].unique()"
   ]
  },
  {
   "cell_type": "code",
   "execution_count": 72,
   "id": "39ccf418",
   "metadata": {},
   "outputs": [],
   "source": [
    "df1['pool'] = np.where( df1['PoolQC'].notnull(), 1, df1['PoolQC'] )\n",
    "df1['pool'] = np.where( df1['PoolQC'].isnull() , 0, df1['PoolQC'] )\n",
    "\n",
    "df2['pool'] = np.where( df2['PoolQC'].notnull(), 1, df2['PoolQC'] )\n",
    "df2['pool'] = np.where( df2['PoolQC'].isnull() , 0, df2['PoolQC'] )\n",
    "\n",
    "\n",
    "df1 = df1.drop('PoolQC', axis=1)\n",
    "df2 = df2.drop('PoolQC', axis=1)\n"
   ]
  },
  {
   "cell_type": "code",
   "execution_count": 73,
   "id": "99853dc6",
   "metadata": {},
   "outputs": [],
   "source": [
    "df2['GarageArea'].fillna(df2['GarageArea'].mean(), inplace=True) "
   ]
  },
  {
   "cell_type": "code",
   "execution_count": 74,
   "id": "25954d0c",
   "metadata": {},
   "outputs": [],
   "source": [
    "df2['GarageCars'].fillna( 0, inplace = True )"
   ]
  },
  {
   "cell_type": "code",
   "execution_count": 75,
   "id": "cfc7f600",
   "metadata": {},
   "outputs": [],
   "source": [
    "df2['BsmtFinSF2'].fillna(df2['BsmtFinSF2'].mean(), inplace=True) "
   ]
  },
  {
   "cell_type": "code",
   "execution_count": 76,
   "id": "417d491a",
   "metadata": {},
   "outputs": [],
   "source": [
    "df2['BsmtUnfSF'].fillna(df2['BsmtUnfSF'].mean(), inplace=True) "
   ]
  },
  {
   "cell_type": "code",
   "execution_count": 77,
   "id": "e97bff44",
   "metadata": {},
   "outputs": [],
   "source": [
    "df1 = df1.drop('SaleType', axis=1)\n",
    "df2 = df2.drop('SaleType', axis=1)"
   ]
  },
  {
   "cell_type": "code",
   "execution_count": 78,
   "id": "9509e3e2",
   "metadata": {},
   "outputs": [],
   "source": [
    "df2['BsmtFinSF1'].fillna(df2['BsmtFinSF1'].mean(), inplace=True)"
   ]
  },
  {
   "cell_type": "code",
   "execution_count": 79,
   "id": "03282610",
   "metadata": {},
   "outputs": [],
   "source": [
    "df2['TotalBsmtSF'].fillna(df2['TotalBsmtSF'].mean(), inplace = True )"
   ]
  },
  {
   "cell_type": "code",
   "execution_count": 80,
   "id": "1f47ce6f",
   "metadata": {},
   "outputs": [
    {
     "data": {
      "text/plain": [
       "Id                0\n",
       "Fireplaces        0\n",
       "TotRmsAbvGrd      0\n",
       "KitchenAbvGr      0\n",
       "BedroomAbvGr      0\n",
       "HalfBath          0\n",
       "FullBath          0\n",
       "FireplaceQu       0\n",
       "GrLivArea         0\n",
       "2ndFlrSF          0\n",
       "1stFlrSF          0\n",
       "Electrical        0\n",
       "CentralAir        0\n",
       "SoldAge           0\n",
       "Heating           0\n",
       "LowQualFinSF      0\n",
       "TotalBsmtSF       0\n",
       "GarageFinish      0\n",
       "GarageArea        0\n",
       "RemodAge          0\n",
       "Age               0\n",
       "GarageAge         0\n",
       "SaleCondition     0\n",
       "MoSold            0\n",
       "MiscVal           0\n",
       "GarageCars        0\n",
       "Fence             0\n",
       "ScreenPorch       0\n",
       "3SsnPorch         0\n",
       "EnclosedPorch     0\n",
       "                 ..\n",
       "OverallCond       0\n",
       "RoofStyle         0\n",
       "LandContour       0\n",
       "RoofMatl          0\n",
       "ExterCond         0\n",
       "BsmtFinSF1        0\n",
       "MSSubClass        0\n",
       "LotFrontage       0\n",
       "LotArea           0\n",
       "Foundation        0\n",
       "ExterQual         0\n",
       "LotShape          0\n",
       "KitchenQual       1\n",
       "Exterior2nd       1\n",
       "Exterior1st       1\n",
       "BsmtHalfBath      2\n",
       "Functional        2\n",
       "Utilities         2\n",
       "BsmtFullBath      2\n",
       "MSZoning          4\n",
       "MasVnrArea       15\n",
       "MasVnrType       16\n",
       "BsmtFinType2     42\n",
       "BsmtFinType1     42\n",
       "BsmtQual         44\n",
       "BsmtExposure     44\n",
       "BsmtCond         45\n",
       "GarageType       76\n",
       "GarageQual       78\n",
       "GarageCond       78\n",
       "Length: 78, dtype: int64"
      ]
     },
     "execution_count": 80,
     "metadata": {},
     "output_type": "execute_result"
    }
   ],
   "source": [
    "pd.options.display.min_rows = 115\n",
    "df2.isnull().sum().sort_values(ascending=True)"
   ]
  },
  {
   "cell_type": "code",
   "execution_count": 81,
   "id": "7f090ded",
   "metadata": {},
   "outputs": [
    {
     "data": {
      "text/plain": [
       "array(['TA', 'Gd', 'Ex', 'Fa', nan], dtype=object)"
      ]
     },
     "execution_count": 81,
     "metadata": {},
     "output_type": "execute_result"
    }
   ],
   "source": [
    "df2['KitchenQual'].unique()"
   ]
  },
  {
   "cell_type": "code",
   "execution_count": 82,
   "id": "382d8c74",
   "metadata": {},
   "outputs": [],
   "source": [
    "df2['KitchenQual'].fillna(df2['KitchenQual'].mode()[0], inplace = True)"
   ]
  },
  {
   "cell_type": "code",
   "execution_count": 83,
   "id": "2d4c7707",
   "metadata": {},
   "outputs": [],
   "source": [
    "df2['Exterior1st'].unique()\n",
    "df2['Exterior1st'].fillna(df2['Exterior1st'].mode()[0], inplace = True)"
   ]
  },
  {
   "cell_type": "code",
   "execution_count": 84,
   "id": "7dde0ee4",
   "metadata": {},
   "outputs": [],
   "source": [
    "df2['Exterior2nd'].fillna(df2['Exterior2nd'].mode()[0], inplace = True)"
   ]
  },
  {
   "cell_type": "code",
   "execution_count": 85,
   "id": "7dc269c7",
   "metadata": {},
   "outputs": [],
   "source": [
    "df2['Functional'].fillna(df2['Functional'].mode()[0], inplace = True)"
   ]
  },
  {
   "cell_type": "code",
   "execution_count": 86,
   "id": "86b83646",
   "metadata": {},
   "outputs": [
    {
     "data": {
      "text/plain": [
       "array([ 0.,  1.,  2.,  3., nan])"
      ]
     },
     "execution_count": 86,
     "metadata": {},
     "output_type": "execute_result"
    }
   ],
   "source": [
    "df2['BsmtFullBath'].unique()"
   ]
  },
  {
   "cell_type": "code",
   "execution_count": 87,
   "id": "82d3f1db",
   "metadata": {},
   "outputs": [],
   "source": [
    "df2['BsmtFullBath'].fillna(df2['BsmtFullBath'].mean(), inplace = True )"
   ]
  },
  {
   "cell_type": "code",
   "execution_count": 88,
   "id": "d977bdf4",
   "metadata": {},
   "outputs": [],
   "source": [
    "df2['Utilities'].fillna(df2['Utilities'].mode()[0], inplace = True )"
   ]
  },
  {
   "cell_type": "code",
   "execution_count": 89,
   "id": "34545c8a",
   "metadata": {},
   "outputs": [],
   "source": [
    "df2['BsmtHalfBath'].fillna(df2['BsmtHalfBath'].mode()[0], inplace = True)"
   ]
  },
  {
   "cell_type": "code",
   "execution_count": 90,
   "id": "bbea4d6b",
   "metadata": {},
   "outputs": [],
   "source": [
    "df2['MSZoning'].fillna(df2['MSZoning'].mode()[0], inplace = True)"
   ]
  },
  {
   "cell_type": "code",
   "execution_count": 91,
   "id": "b87d93e3",
   "metadata": {},
   "outputs": [],
   "source": [
    "df2['MasVnrArea'].fillna(df2['MasVnrArea'].mean(), inplace = True)"
   ]
  },
  {
   "cell_type": "code",
   "execution_count": 92,
   "id": "894aaef5",
   "metadata": {},
   "outputs": [],
   "source": [
    "df2['MasVnrType'].fillna(df2['MasVnrType'].mode()[0], inplace = True)"
   ]
  },
  {
   "cell_type": "code",
   "execution_count": 93,
   "id": "ffcdaccb",
   "metadata": {},
   "outputs": [
    {
     "data": {
      "text/plain": [
       "<Axes: >"
      ]
     },
     "execution_count": 93,
     "metadata": {},
     "output_type": "execute_result"
    },
    {
     "data": {
      "image/png": "[encoded data removed]",
      "text/plain": [
       "<Figure size 640x480 with 1 Axes>"
      ]
     },
     "metadata": {},
     "output_type": "display_data"
    }
   ],
   "source": [
    "df2['BsmtFinType1'].value_counts().plot.bar()"
   ]
  },
  {
   "cell_type": "code",
   "execution_count": 94,
   "id": "ae4c2b47",
   "metadata": {},
   "outputs": [
    {
     "data": {
      "text/plain": [
       "array(['Rec', 'ALQ', 'GLQ', 'Unf', 'BLQ', 'LwQ', nan], dtype=object)"
      ]
     },
     "execution_count": 94,
     "metadata": {},
     "output_type": "execute_result"
    }
   ],
   "source": [
    "df2['BsmtFinType1'].unique()"
   ]
  },
  {
   "cell_type": "code",
   "execution_count": 95,
   "id": "464eff98",
   "metadata": {},
   "outputs": [],
   "source": [
    "import random\n",
    "random.uniform(0, 1)\n",
    "\n",
    "def getType(self) :\n",
    "    x = random.uniform(0, 1)\n",
    "    if x < 0.5 :\n",
    "        return 'GLQ'\n",
    "    else : \n",
    "        return 'Unf'\n",
    "df2['BsmtFinType1'].fillna(df2['BsmtFinType1'].apply(getType), inplace = True)  "
   ]
  },
  {
   "cell_type": "code",
   "execution_count": 96,
   "id": "80752ca1",
   "metadata": {},
   "outputs": [
    {
     "data": {
      "text/plain": [
       "<Axes: >"
      ]
     },
     "execution_count": 96,
     "metadata": {},
     "output_type": "execute_result"
    },
    {
     "data": {
      "image/png": "[encoded data removed]",
      "text/plain": [
       "<Figure size 640x480 with 1 Axes>"
      ]
     },
     "metadata": {},
     "output_type": "display_data"
    }
   ],
   "source": [
    "df2['BsmtFinType2'].value_counts().plot.bar()"
   ]
  },
  {
   "cell_type": "code",
   "execution_count": 97,
   "id": "9f4c2afb",
   "metadata": {},
   "outputs": [],
   "source": [
    "df2['BsmtFinType2'].fillna(df2['BsmtFinType2'].mode()[0], inplace = True) "
   ]
  },
  {
   "cell_type": "code",
   "execution_count": 98,
   "id": "fc0dc039",
   "metadata": {},
   "outputs": [
    {
     "data": {
      "text/plain": [
       "<Axes: >"
      ]
     },
     "execution_count": 98,
     "metadata": {},
     "output_type": "execute_result"
    },
    {
     "data": {
      "image/png": "[encoded data removed]",
      "text/plain": [
       "<Figure size 640x480 with 1 Axes>"
      ]
     },
     "metadata": {},
     "output_type": "display_data"
    }
   ],
   "source": [
    "df2['BsmtQual'].value_counts().plot.bar()"
   ]
  },
  {
   "cell_type": "code",
   "execution_count": 99,
   "id": "45e148af",
   "metadata": {},
   "outputs": [],
   "source": [
    "import random\n",
    "random.uniform(0, 1)\n",
    "\n",
    "def getType(self) :\n",
    "    x = random.uniform(0, 1)\n",
    "    if x < 0.5 :\n",
    "        return 'TA'\n",
    "    else : \n",
    "        return 'Gd'\n",
    "df2['BsmtQual'].fillna(df2['BsmtQual'].apply(getType), inplace = True)  \n",
    "\n"
   ]
  },
  {
   "cell_type": "code",
   "execution_count": 100,
   "id": "31343526",
   "metadata": {},
   "outputs": [
    {
     "data": {
      "text/plain": [
       "0"
      ]
     },
     "execution_count": 100,
     "metadata": {},
     "output_type": "execute_result"
    }
   ],
   "source": [
    "df2['BsmtQual'].isnull().sum()"
   ]
  },
  {
   "cell_type": "code",
   "execution_count": 101,
   "id": "f899f303",
   "metadata": {},
   "outputs": [
    {
     "data": {
      "text/plain": [
       "<Axes: >"
      ]
     },
     "execution_count": 101,
     "metadata": {},
     "output_type": "execute_result"
    },
    {
     "data": {
      "image/png": "[encoded data removed]",
      "text/plain": [
       "<Figure size 640x480 with 1 Axes>"
      ]
     },
     "metadata": {},
     "output_type": "display_data"
    }
   ],
   "source": [
    "df2['BsmtExposure'].value_counts().plot.bar()"
   ]
  },
  {
   "cell_type": "code",
   "execution_count": 102,
   "id": "0066a390",
   "metadata": {},
   "outputs": [],
   "source": [
    "df2['BsmtExposure'].fillna(df2['BsmtExposure'].mode()[0], inplace = True)  "
   ]
  },
  {
   "cell_type": "code",
   "execution_count": 103,
   "id": "c1859626",
   "metadata": {},
   "outputs": [
    {
     "data": {
      "text/plain": [
       "<Axes: >"
      ]
     },
     "execution_count": 103,
     "metadata": {},
     "output_type": "execute_result"
    },
    {
     "data": {
      "image/png": "[encoded data removed]",
      "text/plain": [
       "<Figure size 640x480 with 1 Axes>"
      ]
     },
     "metadata": {},
     "output_type": "display_data"
    }
   ],
   "source": [
    "df2['BsmtCond'].value_counts().plot.bar()"
   ]
  },
  {
   "cell_type": "code",
   "execution_count": 104,
   "id": "540cea5c",
   "metadata": {},
   "outputs": [],
   "source": [
    "df2['BsmtCond'].fillna(df2['BsmtCond'].mode()[0], inplace = True)"
   ]
  },
  {
   "cell_type": "code",
   "execution_count": 105,
   "id": "fc108649",
   "metadata": {},
   "outputs": [
    {
     "data": {
      "text/plain": [
       "<Axes: >"
      ]
     },
     "execution_count": 105,
     "metadata": {},
     "output_type": "execute_result"
    },
    {
     "data": {
      "image/png": "[encoded data removed]",
      "text/plain": [
       "<Figure size 640x480 with 1 Axes>"
      ]
     },
     "metadata": {},
     "output_type": "display_data"
    }
   ],
   "source": [
    "df2['GarageType'].value_counts().plot.bar()"
   ]
  },
  {
   "cell_type": "code",
   "execution_count": 106,
   "id": "74f8a890",
   "metadata": {},
   "outputs": [
    {
     "data": {
      "text/plain": [
       "Attchd     0.616775\n",
       "Detchd     0.283442\n",
       "BuiltIn    0.070860\n",
       "Basment    0.012292\n",
       "2Types     0.012292\n",
       "CarPort    0.004338\n",
       "Name: GarageType, dtype: float64"
      ]
     },
     "execution_count": 106,
     "metadata": {},
     "output_type": "execute_result"
    }
   ],
   "source": [
    "df2['GarageType'].value_counts(normalize  = True)"
   ]
  },
  {
   "cell_type": "code",
   "execution_count": 107,
   "id": "f1cc418b",
   "metadata": {},
   "outputs": [],
   "source": [
    "import random\n",
    "random.uniform(0, 1)\n",
    "\n",
    "def getType(self) :\n",
    "    x = random.uniform(0, 1)\n",
    "    if x < 0.7 :\n",
    "        return 'Attchd'\n",
    "    else : \n",
    "        return 'Detchd'\n",
    "df2['GarageType'].fillna(df2['GarageType'].apply(getType), inplace = True)  "
   ]
  },
  {
   "cell_type": "code",
   "execution_count": 108,
   "id": "16b2bd0e",
   "metadata": {},
   "outputs": [
    {
     "data": {
      "text/plain": [
       "array(['Attchd', 'Detchd', 'BuiltIn', 'Basment', '2Types', 'CarPort'],\n",
       "      dtype=object)"
      ]
     },
     "execution_count": 108,
     "metadata": {},
     "output_type": "execute_result"
    }
   ],
   "source": [
    "df2['GarageType'].unique()"
   ]
  },
  {
   "cell_type": "code",
   "execution_count": 109,
   "id": "a8516b31",
   "metadata": {},
   "outputs": [
    {
     "data": {
      "text/plain": [
       "<Axes: >"
      ]
     },
     "execution_count": 109,
     "metadata": {},
     "output_type": "execute_result"
    },
    {
     "data": {
      "image/png": "[encoded data removed]",
      "text/plain": [
       "<Figure size 640x480 with 1 Axes>"
      ]
     },
     "metadata": {},
     "output_type": "display_data"
    }
   ],
   "source": [
    "df2['GarageCond'].value_counts().plot.bar()"
   ]
  },
  {
   "cell_type": "code",
   "execution_count": 110,
   "id": "0880b67d",
   "metadata": {},
   "outputs": [],
   "source": [
    "df2['GarageCond'].fillna(df2['GarageCond'].mode()[0], inplace = True)"
   ]
  },
  {
   "cell_type": "code",
   "execution_count": 111,
   "id": "0abb8955",
   "metadata": {},
   "outputs": [
    {
     "data": {
      "text/plain": [
       "array(['TA', nan, 'Fa', 'Gd', 'Po'], dtype=object)"
      ]
     },
     "execution_count": 111,
     "metadata": {},
     "output_type": "execute_result"
    }
   ],
   "source": [
    "df2['GarageQual'].unique()"
   ]
  },
  {
   "cell_type": "code",
   "execution_count": 112,
   "id": "15b50b98",
   "metadata": {},
   "outputs": [
    {
     "data": {
      "text/plain": [
       "<Axes: >"
      ]
     },
     "execution_count": 112,
     "metadata": {},
     "output_type": "execute_result"
    },
    {
     "data": {
      "image/png": "[encoded data removed]",
      "text/plain": [
       "<Figure size 640x480 with 1 Axes>"
      ]
     },
     "metadata": {},
     "output_type": "display_data"
    }
   ],
   "source": [
    "df2['GarageQual'].value_counts().plot.bar()"
   ]
  },
  {
   "cell_type": "code",
   "execution_count": 113,
   "id": "37296a36",
   "metadata": {},
   "outputs": [],
   "source": [
    "df2['GarageQual'].fillna(df2['GarageQual'].mode()[0], inplace = True)"
   ]
  },
  {
   "cell_type": "markdown",
   "id": "7e7cef42",
   "metadata": {},
   "source": [
    "## ESTIMATION"
   ]
  },
  {
   "cell_type": "code",
   "execution_count": 114,
   "id": "bee6e0df",
   "metadata": {},
   "outputs": [],
   "source": [
    "def fnc_all_regression_models(x,y):\n",
    "    from sklearn.linear_model import LinearRegression\n",
    "    from sklearn.linear_model import Ridge,Lasso\n",
    "    from sklearn.linear_model import ElasticNet\n",
    "    from sklearn.tree import ExtraTreeRegressor\n",
    "    from sklearn.ensemble import GradientBoostingRegressor\n",
    "    from sklearn.neighbors import KNeighborsRegressor\n",
    "    \n",
    "    from sklearn.model_selection import train_test_split\n",
    "\n",
    "    from sklearn.metrics import mean_squared_error,r2_score,mean_absolute_error\n",
    "    \n",
    "    \n",
    "    x_train,x_test,y_train,y_test=train_test_split(x,y,test_size=0.2,random_state=42)\n",
    "\n",
    "    L=LinearRegression()\n",
    "    R=Ridge()\n",
    "    Lass=Lasso()\n",
    "    E=ElasticNet()\n",
    "    ExTree=ExtraTreeRegressor()\n",
    "    GBR=GradientBoostingRegressor()\n",
    "    KN=KNeighborsRegressor()\n",
    "    \n",
    "    algos=[L,R,Lass,E,ExTree,GBR,KN]\n",
    "    algo_names=['LinearRegression','Ridge','Lasso','ElasticNet','ExtraTreeRegressor','GradientBoostingRegressor','KNeighborsRegressor']\n",
    "    r_squared=[]\n",
    "    rmse=[]\n",
    "    mae=[]\n",
    "    \n",
    "    result=pd.DataFrame(columns=['R_Squared','RMSE','MAE'],index=algo_names)\n",
    "    \n",
    "    for item in algos:\n",
    "        item.fit(x_train,y_train)\n",
    "        item.predict(x_test)\n",
    "        r_squared.append(r2_score(y_test,item.predict(x_test)))\n",
    "        rmse.append((mean_squared_error(y_test,item.predict(x_test)))**.5)\n",
    "        mae.append(mean_absolute_error(y_test,item.predict(x_test)))\n",
    "        \n",
    "    result.R_Squared=r_squared\n",
    "    result.RMSE=rmse\n",
    "    result.MAE=mae\n",
    "        \n",
    "    return result.sort_values('R_Squared',ascending=False)"
   ]
  },
  {
   "cell_type": "code",
   "execution_count": 115,
   "id": "7ced82fa",
   "metadata": {},
   "outputs": [
    {
     "data": {
      "text/plain": [
       "Index(['Id', 'MSSubClass', 'MSZoning', 'LotFrontage', 'LotArea', 'Street',\n",
       "       'Alley', 'LotShape', 'LandContour', 'Utilities', 'LotConfig',\n",
       "       'LandSlope', 'Neighborhood', 'Condition1', 'Condition2', 'BldgType',\n",
       "       'HouseStyle', 'OverallQual', 'OverallCond', 'RoofStyle', 'RoofMatl',\n",
       "       'Exterior1st', 'Exterior2nd', 'MasVnrType', 'MasVnrArea', 'ExterQual',\n",
       "       'ExterCond', 'Foundation', 'BsmtQual', 'BsmtCond', 'BsmtExposure',\n",
       "       'BsmtFinType1', 'BsmtFinSF1', 'BsmtFinType2', 'BsmtFinSF2', 'BsmtUnfSF',\n",
       "       'TotalBsmtSF', 'Heating', 'HeatingQC', 'CentralAir', 'Electrical',\n",
       "       '1stFlrSF', '2ndFlrSF', 'LowQualFinSF', 'GrLivArea', 'BsmtFullBath',\n",
       "       'BsmtHalfBath', 'FullBath', 'HalfBath', 'BedroomAbvGr', 'KitchenAbvGr',\n",
       "       'KitchenQual', 'TotRmsAbvGrd', 'Functional', 'Fireplaces',\n",
       "       'FireplaceQu', 'GarageType', 'GarageFinish', 'GarageCars', 'GarageArea',\n",
       "       'GarageQual', 'GarageCond', 'PavedDrive', 'WoodDeckSF', 'OpenPorchSF',\n",
       "       'EnclosedPorch', '3SsnPorch', 'ScreenPorch', 'PoolArea', 'Fence',\n",
       "       'MiscVal', 'MoSold', 'SaleCondition', 'SalePrice', 'Age', 'RemodAge',\n",
       "       'SoldAge', 'GarageAge', 'pool'],\n",
       "      dtype='object')"
      ]
     },
     "execution_count": 115,
     "metadata": {},
     "output_type": "execute_result"
    }
   ],
   "source": [
    "df1.columns"
   ]
  },
  {
   "cell_type": "code",
   "execution_count": 116,
   "id": "2cc3b061",
   "metadata": {},
   "outputs": [
    {
     "name": "stderr",
     "output_type": "stream",
     "text": [
      "C:\\Users\\haluk\\AppData\\Local\\Temp\\ipykernel_20188\\1940448649.py:18: FutureWarning: In a future version, the Index constructor will not infer numeric dtypes when passed object-dtype sequences (matching Series behavior)\n",
      "  x= pd.get_dummies(x,drop_first=True)\n"
     ]
    }
   ],
   "source": [
    "y = df1['SalePrice']\n",
    "x = df1[['MSSubClass', 'MSZoning', 'LotFrontage', 'LotArea', 'Street',\n",
    "       'Alley', 'LotShape', 'LandContour', 'Utilities', 'LotConfig',\n",
    "       'LandSlope', 'Neighborhood', 'Condition1', 'Condition2', 'BldgType',\n",
    "       'HouseStyle', 'OverallQual', 'OverallCond', 'RoofStyle', 'RoofMatl',\n",
    "       'Exterior1st', 'Exterior2nd', 'MasVnrType', 'MasVnrArea', 'ExterQual',\n",
    "       'ExterCond', 'Foundation', 'BsmtQual', 'BsmtCond', 'BsmtExposure',\n",
    "       'BsmtFinType1', 'BsmtFinSF1', 'BsmtFinType2', 'BsmtFinSF2', 'BsmtUnfSF',\n",
    "       'TotalBsmtSF', 'Heating', 'HeatingQC', 'CentralAir', 'Electrical',\n",
    "       '1stFlrSF', '2ndFlrSF', 'LowQualFinSF', 'GrLivArea', 'BsmtFullBath',\n",
    "       'BsmtHalfBath', 'FullBath', 'HalfBath', 'BedroomAbvGr', 'KitchenAbvGr',\n",
    "       'KitchenQual', 'TotRmsAbvGrd', 'Functional', 'Fireplaces',\n",
    "       'FireplaceQu', 'GarageType', 'GarageFinish', 'GarageCars', 'GarageArea',\n",
    "       'GarageQual', 'GarageCond', 'PavedDrive', 'WoodDeckSF', 'OpenPorchSF',\n",
    "       'EnclosedPorch', '3SsnPorch', 'ScreenPorch', 'PoolArea', 'Fence',\n",
    "       'MiscVal', 'MoSold', 'SaleCondition', 'Age', 'RemodAge',\n",
    "       'SoldAge', 'GarageAge', 'pool']]\n",
    "x= pd.get_dummies(x,drop_first=True)\n"
   ]
  },
  {
   "cell_type": "code",
   "execution_count": 117,
   "id": "68d8f4e7",
   "metadata": {},
   "outputs": [
    {
     "name": "stderr",
     "output_type": "stream",
     "text": [
      "C:\\ProgramData\\anaconda3\\lib\\site-packages\\sklearn\\linear_model\\_coordinate_descent.py:631: ConvergenceWarning: Objective did not converge. You might want to increase the number of iterations, check the scale of the features or consider increasing regularisation. Duality gap: 2.219e+11, tolerance: 6.967e+08\n",
      "  model = cd_fast.enet_coordinate_descent(\n",
      "C:\\ProgramData\\anaconda3\\lib\\site-packages\\sklearn\\linear_model\\_coordinate_descent.py:631: ConvergenceWarning: Objective did not converge. You might want to increase the number of iterations, check the scale of the features or consider increasing regularisation. Duality gap: 6.904e+11, tolerance: 6.967e+08\n",
      "  model = cd_fast.enet_coordinate_descent(\n"
     ]
    },
    {
     "data": {
      "text/html": [
       "<div>\n",
       "<style scoped>\n",
       "    .dataframe tbody tr th:only-of-type {\n",
       "        vertical-align: middle;\n",
       "    }\n",
       "\n",
       "    .dataframe tbody tr th {\n",
       "        vertical-align: top;\n",
       "    }\n",
       "\n",
       "    .dataframe thead th {\n",
       "        text-align: right;\n",
       "    }\n",
       "</style>\n",
       "<table border=\"1\" class=\"dataframe\">\n",
       "  <thead>\n",
       "    <tr style=\"text-align: right;\">\n",
       "      <th></th>\n",
       "      <th>R_Squared</th>\n",
       "      <th>RMSE</th>\n",
       "      <th>MAE</th>\n",
       "    </tr>\n",
       "  </thead>\n",
       "  <tbody>\n",
       "    <tr>\n",
       "      <th>GradientBoostingRegressor</th>\n",
       "      <td>0.890853</td>\n",
       "      <td>28934.324389</td>\n",
       "      <td>17332.206153</td>\n",
       "    </tr>\n",
       "    <tr>\n",
       "      <th>Ridge</th>\n",
       "      <td>0.876163</td>\n",
       "      <td>30819.928953</td>\n",
       "      <td>19879.939450</td>\n",
       "    </tr>\n",
       "    <tr>\n",
       "      <th>ElasticNet</th>\n",
       "      <td>0.835295</td>\n",
       "      <td>35543.526767</td>\n",
       "      <td>20843.591084</td>\n",
       "    </tr>\n",
       "    <tr>\n",
       "      <th>Lasso</th>\n",
       "      <td>0.780256</td>\n",
       "      <td>41054.899662</td>\n",
       "      <td>20027.212297</td>\n",
       "    </tr>\n",
       "    <tr>\n",
       "      <th>ExtraTreeRegressor</th>\n",
       "      <td>0.774197</td>\n",
       "      <td>41617.113039</td>\n",
       "      <td>27164.000000</td>\n",
       "    </tr>\n",
       "    <tr>\n",
       "      <th>LinearRegression</th>\n",
       "      <td>0.765129</td>\n",
       "      <td>42444.542273</td>\n",
       "      <td>20290.465666</td>\n",
       "    </tr>\n",
       "    <tr>\n",
       "      <th>KNeighborsRegressor</th>\n",
       "      <td>0.704462</td>\n",
       "      <td>47611.667852</td>\n",
       "      <td>28120.070548</td>\n",
       "    </tr>\n",
       "  </tbody>\n",
       "</table>\n",
       "</div>"
      ],
      "text/plain": [
       "                           R_Squared          RMSE           MAE\n",
       "GradientBoostingRegressor   0.890853  28934.324389  17332.206153\n",
       "Ridge                       0.876163  30819.928953  19879.939450\n",
       "ElasticNet                  0.835295  35543.526767  20843.591084\n",
       "Lasso                       0.780256  41054.899662  20027.212297\n",
       "ExtraTreeRegressor          0.774197  41617.113039  27164.000000\n",
       "LinearRegression            0.765129  42444.542273  20290.465666\n",
       "KNeighborsRegressor         0.704462  47611.667852  28120.070548"
      ]
     },
     "execution_count": 117,
     "metadata": {},
     "output_type": "execute_result"
    }
   ],
   "source": [
    "fnc_all_regression_models(x,y)\n"
   ]
  },
  {
   "cell_type": "markdown",
   "id": "c7714c77",
   "metadata": {},
   "source": [
    "## PREDICTING KAGGLE TEST DATA SET"
   ]
  },
  {
   "cell_type": "code",
   "execution_count": 118,
   "id": "4698f212",
   "metadata": {},
   "outputs": [],
   "source": [
    "y_train = df1['SalePrice']\n",
    "x_train = df1[['MSSubClass', 'MSZoning', 'LotFrontage', 'LotArea', 'Street',\n",
    "       'Alley', 'LotShape', 'LandContour', 'Utilities', 'LotConfig',\n",
    "       'LandSlope', 'Neighborhood', 'Condition1', 'Condition2', 'BldgType',\n",
    "       'HouseStyle', 'OverallQual', 'OverallCond', 'RoofStyle', 'RoofMatl',\n",
    "       'Exterior1st', 'Exterior2nd', 'MasVnrType', 'MasVnrArea', 'ExterQual',\n",
    "       'ExterCond', 'Foundation', 'BsmtQual', 'BsmtCond', 'BsmtExposure',\n",
    "       'BsmtFinType1', 'BsmtFinSF1', 'BsmtFinType2', 'BsmtFinSF2', 'BsmtUnfSF',\n",
    "       'TotalBsmtSF', 'Heating', 'HeatingQC', 'CentralAir', 'Electrical',\n",
    "       '1stFlrSF', '2ndFlrSF', 'LowQualFinSF', 'GrLivArea', 'BsmtFullBath',\n",
    "       'BsmtHalfBath', 'FullBath', 'HalfBath', 'BedroomAbvGr', 'KitchenAbvGr',\n",
    "       'KitchenQual', 'TotRmsAbvGrd', 'Functional', 'Fireplaces',\n",
    "       'FireplaceQu', 'GarageType', 'GarageFinish', 'GarageCars', 'GarageArea',\n",
    "       'GarageQual', 'GarageCond', 'PavedDrive', 'WoodDeckSF', 'OpenPorchSF',\n",
    "       'EnclosedPorch', '3SsnPorch', 'ScreenPorch', 'PoolArea', 'Fence',\n",
    "       'MiscVal', 'MoSold', 'SaleCondition', 'Age', 'RemodAge',\n",
    "       'SoldAge', 'GarageAge', 'pool']]\n",
    "\n",
    "\n",
    "x_test = df2[['MSSubClass', 'MSZoning', 'LotFrontage', 'LotArea', 'Street',\n",
    "       'Alley', 'LotShape', 'LandContour', 'Utilities', 'LotConfig',\n",
    "       'LandSlope', 'Neighborhood', 'Condition1', 'Condition2', 'BldgType',\n",
    "       'HouseStyle', 'OverallQual', 'OverallCond', 'RoofStyle', 'RoofMatl',\n",
    "       'Exterior1st', 'Exterior2nd', 'MasVnrType', 'MasVnrArea', 'ExterQual',\n",
    "       'ExterCond', 'Foundation', 'BsmtQual', 'BsmtCond', 'BsmtExposure',\n",
    "       'BsmtFinType1', 'BsmtFinSF1', 'BsmtFinType2', 'BsmtFinSF2', 'BsmtUnfSF',\n",
    "       'TotalBsmtSF', 'Heating', 'HeatingQC', 'CentralAir', 'Electrical',\n",
    "       '1stFlrSF', '2ndFlrSF', 'LowQualFinSF', 'GrLivArea', 'BsmtFullBath',\n",
    "       'BsmtHalfBath', 'FullBath', 'HalfBath', 'BedroomAbvGr', 'KitchenAbvGr',\n",
    "       'KitchenQual', 'TotRmsAbvGrd', 'Functional', 'Fireplaces',\n",
    "       'FireplaceQu', 'GarageType', 'GarageFinish', 'GarageCars', 'GarageArea',\n",
    "       'GarageQual', 'GarageCond', 'PavedDrive', 'WoodDeckSF', 'OpenPorchSF',\n",
    "       'EnclosedPorch', '3SsnPorch', 'ScreenPorch', 'PoolArea', 'Fence',\n",
    "       'MiscVal', 'MoSold', 'SaleCondition', 'Age', 'RemodAge',\n",
    "       'SoldAge', 'GarageAge', 'pool']]\n",
    "\n",
    "\n"
   ]
  },
  {
   "cell_type": "code",
   "execution_count": 119,
   "id": "03d6be64",
   "metadata": {},
   "outputs": [],
   "source": [
    "x_final = pd.concat([x_train, x_test])"
   ]
  },
  {
   "cell_type": "code",
   "execution_count": 120,
   "id": "8e546243",
   "metadata": {},
   "outputs": [
    {
     "name": "stderr",
     "output_type": "stream",
     "text": [
      "C:\\Users\\haluk\\AppData\\Local\\Temp\\ipykernel_20188\\4056067028.py:1: FutureWarning: In a future version, the Index constructor will not infer numeric dtypes when passed object-dtype sequences (matching Series behavior)\n",
      "  x_finall = pd.get_dummies(x_final,drop_first=True)\n"
     ]
    }
   ],
   "source": [
    "x_finall = pd.get_dummies(x_final,drop_first=True)"
   ]
  },
  {
   "cell_type": "code",
   "execution_count": 121,
   "id": "31eec9cc",
   "metadata": {},
   "outputs": [],
   "source": [
    "x_train_f = x_finall.iloc[0:1460, :]"
   ]
  },
  {
   "cell_type": "code",
   "execution_count": 122,
   "id": "85752c91",
   "metadata": {},
   "outputs": [],
   "source": [
    "x_test_f = x_finall.iloc[1460:,: ]"
   ]
  },
  {
   "cell_type": "code",
   "execution_count": 123,
   "id": "20b1a0e7",
   "metadata": {},
   "outputs": [],
   "source": [
    "from sklearn.ensemble import GradientBoostingRegressor"
   ]
  },
  {
   "cell_type": "code",
   "execution_count": 124,
   "id": "35fc0464",
   "metadata": {},
   "outputs": [],
   "source": [
    "from sklearn.metrics import mean_squared_error,r2_score,mean_absolute_error"
   ]
  },
  {
   "cell_type": "code",
   "execution_count": 126,
   "id": "eb6a43bd",
   "metadata": {},
   "outputs": [
    {
     "name": "stderr",
     "output_type": "stream",
     "text": [
      "C:\\Users\\haluk\\AppData\\Local\\Temp\\ipykernel_20188\\701628505.py:1: SettingWithCopyWarning: \n",
      "A value is trying to be set on a copy of a slice from a DataFrame\n",
      "\n",
      "See the caveats in the documentation: https://pandas.pydata.org/pandas-docs/stable/user_guide/indexing.html#returning-a-view-versus-a-copy\n",
      "  x_test_f[['GarageQual_Fa','RoofMatl_CompShg',\n",
      "C:\\Users\\haluk\\AppData\\Local\\Temp\\ipykernel_20188\\701628505.py:18: SettingWithCopyWarning: \n",
      "A value is trying to be set on a copy of a slice from a DataFrame\n",
      "\n",
      "See the caveats in the documentation: https://pandas.pydata.org/pandas-docs/stable/user_guide/indexing.html#returning-a-view-versus-a-copy\n",
      "  x_test_f['pool_Fa'].fillna(0, inplace= True)\n"
     ]
    }
   ],
   "source": [
    "x_test_f[['GarageQual_Fa','RoofMatl_CompShg',        \n",
    "'RoofMatl_Membran',        \n",
    "'Exterior1st_ImStucc',     \n",
    "'BsmtFinType1_TA',         \n",
    "'RoofMatl_Roll',           \n",
    "'Utilities_NoSeWa',        \n",
    "'Heating_GasA',            \n",
    "'HouseStyle_2.5Fin',       \n",
    "'Heating_OthW',            \n",
    "'Condition2_RRNn',         \n",
    "'Condition2_RRAn',         \n",
    "'Condition2_RRAe',         \n",
    "'Exterior2nd_Other',       \n",
    "'Electrical_Mix',          \n",
    "'BsmtFinType1_Gd',         \n",
    "'Exterior1st_Stone',       \n",
    "'RoofMatl_Metal' ] ].fillna(0, inplace= True)\n",
    "x_test_f['pool_Fa'].fillna(0, inplace= True)"
   ]
  },
  {
   "cell_type": "code",
   "execution_count": null,
   "id": "a19b3b93",
   "metadata": {},
   "outputs": [],
   "source": []
  },
  {
   "cell_type": "code",
   "execution_count": 127,
   "id": "dec6b34c",
   "metadata": {},
   "outputs": [
    {
     "data": {
      "text/plain": [
       "MSSubClass              0\n",
       "ExterQual_Gd            0\n",
       "ExterQual_TA            0\n",
       "ExterCond_Fa            0\n",
       "ExterCond_Gd            0\n",
       "ExterCond_Po            0\n",
       "ExterCond_TA            0\n",
       "Foundation_CBlock       0\n",
       "Foundation_PConc        0\n",
       "Foundation_Slab         0\n",
       "Foundation_Stone        0\n",
       "Foundation_Wood         0\n",
       "BsmtQual_Fa             0\n",
       "ExterQual_Fa            0\n",
       "BsmtQual_Gd             0\n",
       "BsmtCond_Gd             0\n",
       "BsmtCond_Po             0\n",
       "BsmtCond_TA             0\n",
       "BsmtExposure_Gd         0\n",
       "BsmtExposure_Mn         0\n",
       "BsmtExposure_No         0\n",
       "BsmtFinType1_BLQ        0\n",
       "BsmtFinType1_GLQ        0\n",
       "BsmtFinType1_Gd         0\n",
       "BsmtFinType1_LwQ        0\n",
       "BsmtFinType1_Rec        0\n",
       "BsmtFinType1_TA         0\n",
       "BsmtQual_TA             0\n",
       "BsmtFinType1_Unf        0\n",
       "MasVnrType_Stone        0\n",
       "                       ..\n",
       "Condition2_Norm         0\n",
       "Condition1_RRNn         0\n",
       "Neighborhood_Crawfor    0\n",
       "Neighborhood_Edwards    0\n",
       "Neighborhood_Gilbert    0\n",
       "Neighborhood_IDOTRR     0\n",
       "Neighborhood_MeadowV    0\n",
       "Neighborhood_Mitchel    0\n",
       "Neighborhood_NAmes      0\n",
       "Neighborhood_NPkVill    0\n",
       "Neighborhood_NWAmes     0\n",
       "Neighborhood_NoRidge    0\n",
       "Neighborhood_NridgHt    0\n",
       "Neighborhood_OldTown    0\n",
       "Condition2_Feedr        0\n",
       "Neighborhood_SWISU      0\n",
       "Neighborhood_SawyerW    0\n",
       "Neighborhood_Somerst    0\n",
       "Neighborhood_StoneBr    0\n",
       "Neighborhood_Timber     0\n",
       "Neighborhood_Veenker    0\n",
       "Condition1_Feedr        0\n",
       "Condition1_Norm         0\n",
       "Condition1_PosA         0\n",
       "Condition1_PosN         0\n",
       "Condition1_RRAe         0\n",
       "Condition1_RRAn         0\n",
       "Condition1_RRNe         0\n",
       "Neighborhood_Sawyer     0\n",
       "pool_Gd                 0\n",
       "Length: 239, dtype: int64"
      ]
     },
     "execution_count": 127,
     "metadata": {},
     "output_type": "execute_result"
    }
   ],
   "source": [
    "pd.options.display.min_rows = 115\n",
    "x_test_f.isnull().sum().sort_values(ascending=True)"
   ]
  },
  {
   "cell_type": "code",
   "execution_count": 142,
   "id": "d5d6baf5",
   "metadata": {},
   "outputs": [
    {
     "data": {
      "text/plain": [
       "1459"
      ]
     },
     "execution_count": 142,
     "metadata": {},
     "output_type": "execute_result"
    }
   ],
   "source": [
    "len(x_test)"
   ]
  },
  {
   "cell_type": "code",
   "execution_count": 130,
   "id": "085d9fc3",
   "metadata": {},
   "outputs": [],
   "source": [
    "GBC= GradientBoostingRegressor()\n",
    "model=GBC.fit(x_train_f,y_train)\n",
    "Kaggle_pred=model.predict(x_test_f)"
   ]
  },
  {
   "cell_type": "code",
   "execution_count": 129,
   "id": "18e7476e",
   "metadata": {},
   "outputs": [
    {
     "data": {
      "text/plain": [
       "array([118326.44221083, 163987.22353803, 181205.49894644, ...,\n",
       "       167305.14045488, 123388.39993137, 241813.34540661])"
      ]
     },
     "execution_count": 129,
     "metadata": {},
     "output_type": "execute_result"
    }
   ],
   "source": [
    "Kaggle_pred"
   ]
  },
  {
   "cell_type": "code",
   "execution_count": 138,
   "id": "9ce6a56e",
   "metadata": {},
   "outputs": [],
   "source": [
    "df_predict = pd.DataFrame(Kaggle_pred, columns = ['SalePrice'])\n",
    "df_predict['Id'] = df2['Id']"
   ]
  },
  {
   "cell_type": "code",
   "execution_count": 139,
   "id": "4776829d",
   "metadata": {},
   "outputs": [],
   "source": [
    "df_predict.to_csv(\"myHouse_predict.csv\",index=False)"
   ]
  },
  {
   "cell_type": "code",
   "execution_count": 135,
   "id": "29975636",
   "metadata": {},
   "outputs": [],
   "source": [
    "#ERROR: Unexpected Column:  'predict' (Line 1, Column 1)\n",
    "#ERROR: Required column 'Id' could not be found\n",
    "#ERROR: Required column 'SalePrice' could not be found"
   ]
  },
  {
   "cell_type": "code",
   "execution_count": 167,
   "id": "c4698cc9",
   "metadata": {},
   "outputs": [],
   "source": [
    "def func_predict_y(x_train,x_test, y_train):\n",
    "    from sklearn.linear_model import LinearRegression\n",
    "    from sklearn.linear_model import Ridge,Lasso\n",
    "    from sklearn.linear_model import ElasticNet\n",
    "    from sklearn.tree import ExtraTreeRegressor\n",
    "    from sklearn.ensemble import GradientBoostingRegressor\n",
    "    from sklearn.neighbors import KNeighborsRegressor\n",
    "    \n",
    "    from sklearn.model_selection import train_test_split\n",
    "\n",
    "    from sklearn.metrics import mean_squared_error,r2_score,mean_absolute_error\n",
    "    \n",
    "    from xgboost import XGBRegressor\n",
    "    \n",
    "    L=LinearRegression()\n",
    "    R=Ridge()\n",
    "    Lass=Lasso()\n",
    "    E=ElasticNet()\n",
    "    ExTree=ExtraTreeRegressor()\n",
    "    GBR=GradientBoostingRegressor()\n",
    "    KN=KNeighborsRegressor()\n",
    "    XGBC = XGBRegressor()\n",
    "    \n",
    "    algos=[L,R,Lass,E,ExTree,GBR,KN, XGBC]\n",
    "    algo_names=['LinearRegression','Ridge','Lasso','ElasticNet','ExtraTreeRegressor',\n",
    "                'GradientBoostingRegressor','KNeighborsRegressor', 'XGBRRegressor']\n",
    "    r_squared=[]\n",
    "    rmse=[]\n",
    "    mae=[]\n",
    "    \n",
    "    result=pd.DataFrame(columns=['R_Squared','RMSE','MAE'],index=algo_names)\n",
    " \n",
    "    w = len(x_test)\n",
    "    h = 8\n",
    "    pred_y = [[0 for x in range(w)] for y in range(h)] \n",
    "    algo_i = 0;\n",
    "    for item in algos:\n",
    "        item.fit(x_train,y_train)\n",
    "        #pred_y[algo_i,:] = item.predict(x_test)\n",
    "        arr_ = item.predict(x_test)\n",
    "        pred_y[algo_i] = arr_ \n",
    "        print(len(arr_))\n",
    "        #print(item.predict(x_test))\n",
    "        algo_i = algo_i + 1;\n",
    "        #r_squared.append(r2_score(y_test,item.predict(x_test)))\n",
    "        #rmse.append((mean_squared_error(y_test,item.predict(x_test)))**.5)\n",
    "        #mae.append(mean_absolute_error(y_test,item.predict(x_test)))\n",
    "        \n",
    "    #result.R_Squared=r_squared\n",
    "    #result.RMSE=rmse\n",
    "    #result.MAE=mae\n",
    "    #return result.sort_values('R_Squared',ascending=False)\n",
    "    return pred_y"
   ]
  },
  {
   "cell_type": "code",
   "execution_count": 168,
   "id": "ac876f2e",
   "metadata": {},
   "outputs": [
    {
     "name": "stdout",
     "output_type": "stream",
     "text": [
      "1459\n",
      "1459\n"
     ]
    },
    {
     "name": "stderr",
     "output_type": "stream",
     "text": [
      "C:\\ProgramData\\anaconda3\\lib\\site-packages\\sklearn\\linear_model\\_coordinate_descent.py:631: ConvergenceWarning: Objective did not converge. You might want to increase the number of iterations, check the scale of the features or consider increasing regularisation. Duality gap: 3.187e+11, tolerance: 9.208e+08\n",
      "  model = cd_fast.enet_coordinate_descent(\n"
     ]
    },
    {
     "name": "stdout",
     "output_type": "stream",
     "text": [
      "1459\n"
     ]
    },
    {
     "name": "stderr",
     "output_type": "stream",
     "text": [
      "C:\\ProgramData\\anaconda3\\lib\\site-packages\\sklearn\\linear_model\\_coordinate_descent.py:631: ConvergenceWarning: Objective did not converge. You might want to increase the number of iterations, check the scale of the features or consider increasing regularisation. Duality gap: 8.798e+11, tolerance: 9.208e+08\n",
      "  model = cd_fast.enet_coordinate_descent(\n"
     ]
    },
    {
     "name": "stdout",
     "output_type": "stream",
     "text": [
      "1459\n",
      "1459\n",
      "1459\n",
      "1459\n",
      "1459\n"
     ]
    }
   ],
   "source": [
    "myPredict = func_predict_y(x_train_f,x_test_f, y_train)"
   ]
  },
  {
   "cell_type": "code",
   "execution_count": 164,
   "id": "0a229596",
   "metadata": {},
   "outputs": [
    {
     "data": {
      "text/plain": [
       "array([101183.54531839, 139622.42584831, 174551.05333584, ...,\n",
       "       161210.25577424,  99854.34573075, 221672.38289589])"
      ]
     },
     "execution_count": 164,
     "metadata": {},
     "output_type": "execute_result"
    }
   ],
   "source": [
    "myPredict[1][:]"
   ]
  },
  {
   "cell_type": "code",
   "execution_count": 173,
   "id": "360d88f2",
   "metadata": {},
   "outputs": [],
   "source": [
    "df_predict = pd.DataFrame(myPredict[7][:], columns = ['SalePrice'])\n",
    "df_predict['Id'] = df2['Id']"
   ]
  },
  {
   "cell_type": "code",
   "execution_count": 174,
   "id": "ed38b120",
   "metadata": {},
   "outputs": [],
   "source": [
    "df_predict.to_csv(\"myHouse_predict.csv\",index=False)"
   ]
  },
  {
   "cell_type": "code",
   "execution_count": 175,
   "id": "1d36d84f",
   "metadata": {},
   "outputs": [
    {
     "data": {
      "text/plain": [
       "array([123106.79, 148759.84, 177499.94, ..., 163176.27, 108466.38,\n",
       "       211040.66], dtype=float32)"
      ]
     },
     "execution_count": 175,
     "metadata": {},
     "output_type": "execute_result"
    }
   ],
   "source": [
    "myPredict[7]"
   ]
  },
  {
   "cell_type": "code",
   "execution_count": null,
   "id": "1c6787fb",
   "metadata": {},
   "outputs": [],
   "source": []
  }
 ],
 "metadata": {
  "kernelspec": {
   "display_name": "Python 3 (ipykernel)",
   "language": "python",
   "name": "python3"
  },
  "language_info": {
   "codemirror_mode": {
    "name": "ipython",
    "version": 3
   },
   "file_extension": ".py",
   "mimetype": "text/x-python",
   "name": "python",
   "nbconvert_exporter": "python",
   "pygments_lexer": "ipython3",
   "version": "3.11.5"
  }
 },
 "nbformat": 4,
 "nbformat_minor": 5
}
